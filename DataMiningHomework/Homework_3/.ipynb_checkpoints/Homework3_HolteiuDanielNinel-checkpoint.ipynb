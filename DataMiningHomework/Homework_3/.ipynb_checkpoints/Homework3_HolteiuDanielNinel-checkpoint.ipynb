{
 "cells": [
  {
   "cell_type": "code",
   "execution_count": 180,
   "metadata": {},
   "outputs": [],
   "source": [
    "import tensorflow as tf\n",
    "from tensorflow import keras\n",
    "from keras.models import Sequential\n",
    "from keras.layers import Conv2D, MaxPooling2D, Dropout, Flatten, Dense, BatchNormalization, Activation\n",
    "from keras.optimizers import Adam, SGD\n",
    "import data_generator\n",
    "import numpy as np\n",
    "import matplotlib.pyplot as plt\n",
    "%matplotlib inline"
   ]
  },
  {
   "cell_type": "code",
   "execution_count": 184,
   "metadata": {},
   "outputs": [],
   "source": [
    "# Useful functions\n",
    "def save_model(model, path):\n",
    "    model.save(path)\n",
    "\n",
    "def load_model(path):\n",
    "    return load_model(path)\n",
    "\n",
    "def generate_data(number_of_training_pairs=10000, number_of_test_pairs=512): # training and test data will be *2 those\n",
    "    training_set = data_generator.training_generator(number_of_training_pairs)\n",
    "    test_set = data_generator.test_generator(number_of_test_pairs)\n",
    "    X, y, y_sum = next(training_set)\n",
    "    X_test, y_test, y_sum_test = next(test_set)\n",
    "\n",
    "    X1 = [el[0] for el in X]\n",
    "    X2 = [el[1] for el in X]\n",
    "    X = np.array(X1 + X2)\n",
    "\n",
    "    y1 = [el[0] for el in y]\n",
    "    y2 = [el[1] for el in y]\n",
    "    y = np.array(y1 + y2)\n",
    "\n",
    "    X1 = [el[0] for el in X_test]\n",
    "    X2 = [el[1] for el in X_test]\n",
    "    X_test = np.array(X1 + X2)\n",
    "\n",
    "    y1 = [el[0] for el in y_test]\n",
    "    y2 = [el[1] for el in y_test]\n",
    "    y_test = np.array(y1 + y2)\n",
    "    return X, y, X_test, y_test\n",
    "\n",
    "def reshape_and_normalize(X, y, X_test, y_test):\n",
    "    # constants\n",
    "    number_of_classes = 256\n",
    "    data_height = 28\n",
    "    data_width = 84\n",
    "\n",
    "    # normalization\n",
    "    X = X / 255.0\n",
    "    X_test = X_test / 255.0\n",
    "\n",
    "    y = keras.utils.to_categorical(y, number_of_classes)\n",
    "    y_test = keras.utils.to_categorical(y_test, number_of_classes)\n",
    "\n",
    "    # prepare data\n",
    "    X = X.reshape(X.shape[0], data_height, data_width, 1)\n",
    "    X_test = X_test.reshape(X_test.shape[0], data_height, data_width, 1)\n",
    "    return X, y, X_test, y_test\n",
    "\n",
    "# creates a model where we vary optimizers (2 possibilities: sgd or adam) and their learning rates\n",
    "# More about the model architecture below\n",
    "def create_model(optimizer, lr): # optimizer is a string can be \"adam\" or \"sgd\"\n",
    "    # needed constants\n",
    "    number_of_classes = 256\n",
    "    data_height = 28\n",
    "    data_width = 84\n",
    "    input_shape = X.shape[1:]\n",
    "    \n",
    "    # create optimizer (the only thing that varies and we are trying to tune)\n",
    "    # it can be either SGD or Adam and it can have variable learning rate\n",
    "    if optimizer == \"sgd\":\n",
    "        my_optimizer = SGD(lr=lr)\n",
    "    elif optimizer == \"adam\":\n",
    "        my_optimizer = Adam(lr=lr)\n",
    "    else:\n",
    "        my_optimizer = \"adam\" # make the optimizer default adam if an unknown is being specified\n",
    "\n",
    "    # model\n",
    "    model = Sequential()\n",
    "\n",
    "    # Layer 1\n",
    "    model.add(Conv2D(16, (5, 5), padding=\"SAME\", input_shape=input_shape, kernel_initializer=\"he_normal\"))\n",
    "    model.add(BatchNormalization(axis=-1))\n",
    "    model.add(Activation(\"relu\"))\n",
    "\n",
    "    # Layer 2\n",
    "    model.add(Conv2D(32, (3, 3), padding=\"SAME\", kernel_initializer=\"he_normal\"))\n",
    "    model.add(BatchNormalization(axis=-1))\n",
    "    model.add(Activation(\"relu\"))\n",
    "    model.add(MaxPooling2D(pool_size=(2, 2)))\n",
    "\n",
    "    # Layer 3\n",
    "    model.add(Conv2D(64, (5, 5), kernel_initializer=\"he_normal\"))\n",
    "    model.add(BatchNormalization(axis=-1))\n",
    "    model.add(Activation(\"relu\"))\n",
    "\n",
    "    # Layer 4\n",
    "    model.add(Conv2D(128, (3, 3), kernel_initializer=\"he_normal\"))\n",
    "    model.add(BatchNormalization(axis=-1))\n",
    "    model.add(Activation(\"relu\"))\n",
    "    model.add(MaxPooling2D(pool_size=(2, 2)))\n",
    "\n",
    "    # Layer 5\n",
    "    model.add(Conv2D(256, (3, 3), kernel_initializer=\"he_normal\"))\n",
    "    model.add(BatchNormalization(axis=-1))\n",
    "    model.add(Activation(\"relu\"))\n",
    "\n",
    "    # Layer 6\n",
    "    model.add(Conv2D(128, (2, 2), kernel_initializer=\"he_normal\"))\n",
    "    model.add(BatchNormalization(axis=-1))\n",
    "    model.add(Activation('relu'))\n",
    "\n",
    "    # Layer 7\n",
    "    model.add(Conv2D(64, (1, 1), kernel_initializer=\"he_normal\"))\n",
    "    model.add(BatchNormalization(axis=-1))\n",
    "    model.add(Activation(\"relu\"))\n",
    "\n",
    "    # Layer 8\n",
    "    model.add(Conv2D(32, (1, 1), kernel_initializer=\"he_normal\"))\n",
    "    model.add(Activation('relu'))\n",
    "    model.add(Flatten())\n",
    "    model.add(Dense(512))\n",
    "    model.add(Activation('relu'))\n",
    "    model.add(Dense(256))\n",
    "    model.add(Activation('softmax'))\n",
    "\n",
    "    model.compile(loss=\"categorical_crossentropy\", optimizer=my_optimizer, metrics=['categorical_accuracy'])\n",
    "    return model\n",
    "\n",
    "def train_model(model, X, y):\n",
    "    # number of epochs. Explained below. We will use all the time 10 epochs.\n",
    "    epochs = 10\n",
    "    batch_size = 32\n",
    "    validation_split = 0.1 # percentage of data to be used for validation\n",
    "    history = LossAccHistory()\n",
    "    model.fit(X, y, batch_size=batch_size, epochs=epochs, validation_split=validation_split, callbacks=[history])\n",
    "    return model, history\n",
    "    \n",
    "# class used to save history of the model (every batch loss value and accuracy value) - plot purposes\n",
    "class LossAccHistory(keras.callbacks.Callback):\n",
    "    def on_train_begin(self, logs={}):\n",
    "        self.losses = []\n",
    "        self.accuracies = []\n",
    "    \n",
    "    def on_batch_end(self, batch, logs={}):\n",
    "        self.losses.append(logs.get('loss'))\n",
    "        self.accuracies.append(logs.get('categorical_accuracy'))\n",
    "        \n",
    "def plot_losses_per_batch(history):\n",
    "    plt.plot(range(len(history.losses)), history.losses)\n",
    "\n",
    "def plot_accuracies_per_batch(history):\n",
    "    plt.plot(range(len(history.accuracies)), history.accuracies)\n",
    "    \n",
    "def evaluate_all_models(models, X_test, y_test):\n",
    "    batch_size=32\n",
    "    for index, model_info in enumerate(models):\n",
    "        model = model_info[\"model\"]\n",
    "        accuracy_and_loss = model.evaluate(X_test, y_test, batch_size=batch_size)\n",
    "        model_info[\"accuracy\"] = accuracy_and_loss[1]\n",
    "        models[index] = model_info\n",
    "        print(\"Params: \", model_info[\"params\"])\n",
    "        print(\"[Loss, Accuracy]: \", accuracy_and_loss)\n",
    "    return models\n"
   ]
  },
  {
   "cell_type": "code",
   "execution_count": null,
   "metadata": {},
   "outputs": [],
   "source": [
    "# generate data\n",
    "X, y, X_test, y_test = generate_data(number_of_training_pairs=15000, number_of_test_pairs=1000) # 30k images for train. 2000 images for evaluation\n",
    "# reshape data and normalize it\n",
    "X, y, X_test, y_test = reshape_and_normalize(X, y, X_test, y_test)\n",
    "print(\"Train X shape:\", X.shape)\n",
    "print(\"Train y shape:\", y.shape)\n",
    "print(\"Test X shape:\", X_test.shape)\n",
    "print(\"Test y shape:\", y_test.shape)"
   ]
  },
  {
   "cell_type": "code",
   "execution_count": 183,
   "metadata": {},
   "outputs": [
    {
     "name": "stdout",
     "output_type": "stream",
     "text": [
      "Number of models to test:  6\n"
     ]
    }
   ],
   "source": [
    "# create models with their respective params\n",
    "models = []\n",
    "parameters = [{\"optimizer\": \"sgd\", \"lr\": 0.001}, \n",
    "              {\"optimizer\": \"sgd\", \"lr\": 0.01},\n",
    "              {\"optimizer\": \"sgd\", \"lr\": 0.1},\n",
    "              {\"optimizer\": \"adam\", \"lr\": 0.001},\n",
    "              {\"optimizer\": \"adam\", \"lr\": 0.01},\n",
    "              {\"optimizer\": \"adam\", \"lr\": 0.1}]\n",
    "for params in parameters:\n",
    "    models.append({\"model\": create_model(**params),\n",
    "                   \"params\": params,\n",
    "                   \"history\": None,\n",
    "                   \"Accuracy\": None\n",
    "                  })\n",
    "print(\"Number of models to test: \", len(models))"
   ]
  },
  {
   "cell_type": "code",
   "execution_count": 162,
   "metadata": {},
   "outputs": [
    {
     "name": "stdout",
     "output_type": "stream",
     "text": [
      "[15, 15, 15, 15]\n"
     ]
    }
   ],
   "source": [
    "# train all the models and save their history\n",
    "for index, model_info in enumerate(models):\n",
    "    model, history = train_model(model_info[\"model\"], X, y)\n",
    "    model_info[\"history\"] = history\n",
    "    model_info[\"model\"] = model\n",
    "    models[index] = model_info\n",
    "    # also save models after training them\n",
    "    save_model(model=model, path=\"model_number_{}.h5\".format(index))"
   ]
  },
  {
   "cell_type": "code",
   "execution_count": null,
   "metadata": {},
   "outputs": [],
   "source": [
    "# Evaluate all models\n",
    "models = evaluate_all_models(models, X_test, y_test)"
   ]
  },
  {
   "cell_type": "code",
   "execution_count": null,
   "metadata": {},
   "outputs": [],
   "source": [
    "# TBD - PLOTS HERE"
   ]
  },
  {
   "cell_type": "markdown",
   "metadata": {},
   "source": [
    "# NOTHING BELOW. ALL THAT HAPPENS IS ABOVE"
   ]
  },
  {
   "cell_type": "code",
   "execution_count": 88,
   "metadata": {},
   "outputs": [],
   "source": [
    "training_set = data_generator.training_generator(10000)\n",
    "test_set = data_generator.test_generator(512)\n",
    "X, y, numbers_sum = next(training_set)\n",
    "X_test, y_test, numbers_sum_test = next(test_set)\n",
    "\n",
    "X1 = [el[0] for el in X]\n",
    "X2 = [el[1] for el in X]\n",
    "X = np.array(X1 + X2)\n",
    "\n",
    "y1 = [el[0] for el in y]\n",
    "y2 = [el[1] for el in y]\n",
    "y = np.array(y1 + y2)\n",
    "\n",
    "X1 = [el[0] for el in X_test]\n",
    "X2 = [el[1] for el in X_test]\n",
    "X_test = np.array(X1 + X2)\n",
    "\n",
    "y1 = [el[0] for el in y_test]\n",
    "y2 = [el[1] for el in y_test]\n",
    "y_test = np.array(y1 + y2)"
   ]
  },
  {
   "cell_type": "code",
   "execution_count": 89,
   "metadata": {},
   "outputs": [
    {
     "name": "stdout",
     "output_type": "stream",
     "text": [
      "(20000, 28, 84)\n",
      "(20000,)\n"
     ]
    }
   ],
   "source": [
    "print(X.shape)\n",
    "print(y.shape)"
   ]
  },
  {
   "cell_type": "code",
   "execution_count": 90,
   "metadata": {},
   "outputs": [],
   "source": [
    "# constants\n",
    "number_of_classes = 256\n",
    "data_height = 28\n",
    "data_width = 84\n",
    "\n",
    "# normalization\n",
    "X = X / 255.0\n",
    "X_test = X_test / 255.0\n",
    "\n",
    "y = keras.utils.to_categorical(y, number_of_classes)\n",
    "y_test = keras.utils.to_categorical(y_test, number_of_classes)\n",
    "\n",
    "# prepare data\n",
    "X = X.reshape(X.shape[0], data_height, data_width, 1)\n",
    "X_test = X_test.reshape(X_test.shape[0], data_height, data_width, 1)"
   ]
  },
  {
   "cell_type": "code",
   "execution_count": 91,
   "metadata": {},
   "outputs": [
    {
     "name": "stdout",
     "output_type": "stream",
     "text": [
      "(20000, 28, 84, 1)\n",
      "(20000, 256)\n"
     ]
    }
   ],
   "source": [
    "print(X.shape)\n",
    "print(y.shape)"
   ]
  },
  {
   "cell_type": "code",
   "execution_count": 76,
   "metadata": {},
   "outputs": [],
   "source": [
    "# model\n",
    "number_of_classes = 256\n",
    "data_height = 28\n",
    "data_width = 84\n",
    "input_shape = X.shape[1:]\n",
    "\n",
    "model = Sequential()\n",
    "\n",
    "# Layer 1\n",
    "model.add(Conv2D(16, (5, 5), padding=\"SAME\", input_shape=input_shape, kernel_initializer=\"he_normal\"))\n",
    "model.add(BatchNormalization(axis=-1))\n",
    "model.add(Activation(\"relu\"))\n",
    "\n",
    "# Layer 2\n",
    "model.add(Conv2D(32, (3, 3), padding=\"SAME\", kernel_initializer=\"he_normal\"))\n",
    "model.add(BatchNormalization(axis=-1))\n",
    "model.add(Activation(\"relu\"))\n",
    "model.add(MaxPooling2D(pool_size=(2, 2)))\n",
    "\n",
    "# Layer 3\n",
    "model.add(Conv2D(64, (5, 5), kernel_initializer=\"he_normal\"))\n",
    "model.add(BatchNormalization(axis=-1))\n",
    "model.add(Activation(\"relu\"))\n",
    "\n",
    "# Layer 4\n",
    "model.add(Conv2D(128, (3, 3), kernel_initializer=\"he_normal\"))\n",
    "model.add(BatchNormalization(axis=-1))\n",
    "model.add(Activation(\"relu\"))\n",
    "model.add(MaxPooling2D(pool_size=(2, 2)))\n",
    "\n",
    "# Layer 5\n",
    "model.add(Conv2D(256, (3, 3), kernel_initializer=\"he_normal\"))\n",
    "model.add(BatchNormalization(axis=-1))\n",
    "model.add(Activation(\"relu\"))\n",
    "\n",
    "# Layer 6\n",
    "model.add(Conv2D(128, (2, 2), kernel_initializer=\"he_normal\"))\n",
    "model.add(BatchNormalization(axis=-1))\n",
    "model.add(Activation('relu'))\n",
    "\n",
    "# Layer 7\n",
    "model.add(Conv2D(64, (1, 1), kernel_initializer=\"he_normal\"))\n",
    "model.add(BatchNormalization(axis=-1))\n",
    "model.add(Activation(\"relu\"))\n",
    "\n",
    "# Layer 8\n",
    "model.add(Conv2D(32, (1, 1), kernel_initializer=\"he_normal\"))\n",
    "model.add(Flatten())\n",
    "model.add(Dense(256))\n",
    "model.add(Activation('sigmoid'))\n",
    "\n",
    "model.compile(loss=\"binary_crossentropy\", optimizer=\"adam\", metrics=['categorical_accuracy'])"
   ]
  },
  {
   "cell_type": "code",
   "execution_count": 77,
   "metadata": {},
   "outputs": [
    {
     "name": "stdout",
     "output_type": "stream",
     "text": [
      "Train on 4096 samples, validate on 512 samples\n",
      "Epoch 1/10\n",
      "4096/4096 [==============================] - 60s 15ms/step - loss: 0.0576 - categorical_accuracy: 0.0125 - val_loss: 0.0247 - val_categorical_accuracy: 0.0254\n",
      "Epoch 2/10\n",
      "4096/4096 [==============================] - 53s 13ms/step - loss: 0.0230 - categorical_accuracy: 0.0479 - val_loss: 0.0232 - val_categorical_accuracy: 0.0449\n",
      "Epoch 3/10\n",
      "4096/4096 [==============================] - 53s 13ms/step - loss: 0.0196 - categorical_accuracy: 0.1431 - val_loss: 0.0196 - val_categorical_accuracy: 0.1133\n",
      "Epoch 4/10\n",
      "4096/4096 [==============================] - 53s 13ms/step - loss: 0.0141 - categorical_accuracy: 0.3767 - val_loss: 0.0162 - val_categorical_accuracy: 0.2188\n",
      "Epoch 5/10\n",
      "4096/4096 [==============================] - 54s 13ms/step - loss: 0.0092 - categorical_accuracy: 0.6536 - val_loss: 0.0160 - val_categorical_accuracy: 0.2832\n",
      "Epoch 6/10\n",
      "4096/4096 [==============================] - 54s 13ms/step - loss: 0.0058 - categorical_accuracy: 0.8533 - val_loss: 0.0123 - val_categorical_accuracy: 0.4746\n",
      "Epoch 7/10\n",
      "4096/4096 [==============================] - 57s 14ms/step - loss: 0.0036 - categorical_accuracy: 0.9468 - val_loss: 0.0135 - val_categorical_accuracy: 0.4922\n",
      "Epoch 8/10\n",
      "4096/4096 [==============================] - 55s 13ms/step - loss: 0.0021 - categorical_accuracy: 0.9919 - val_loss: 0.0132 - val_categorical_accuracy: 0.4590\n",
      "Epoch 9/10\n",
      "4096/4096 [==============================] - 54s 13ms/step - loss: 0.0011 - categorical_accuracy: 0.9983 - val_loss: 0.0120 - val_categorical_accuracy: 0.5938\n",
      "Epoch 10/10\n",
      "4096/4096 [==============================] - 58s 14ms/step - loss: 5.8830e-04 - categorical_accuracy: 1.0000 - val_loss: 0.0096 - val_categorical_accuracy: 0.6504\n"
     ]
    },
    {
     "data": {
      "text/plain": [
       "<keras.callbacks.History at 0x149163780>"
      ]
     },
     "execution_count": 77,
     "metadata": {},
     "output_type": "execute_result"
    }
   ],
   "source": [
    "# training\n",
    "epochs = 10\n",
    "model.fit(X, y, batch_size=32, epochs=epochs, validation_data=(X_test, y_test))"
   ]
  },
  {
   "cell_type": "code",
   "execution_count": 78,
   "metadata": {},
   "outputs": [
    {
     "name": "stdout",
     "output_type": "stream",
     "text": [
      "512/512 [==============================] - 2s 3ms/step\n",
      "[0.009642288030590862, 0.650390625]\n"
     ]
    }
   ],
   "source": [
    "print(model.evaluate(X_test, y_test, batch_size=32))"
   ]
  },
  {
   "cell_type": "code",
   "execution_count": 94,
   "metadata": {},
   "outputs": [],
   "source": [
    "# Working decently good on 10k tuples (20k datas)\n",
    "# model\n",
    "number_of_classes = 256\n",
    "data_height = 28\n",
    "data_width = 84\n",
    "input_shape = X.shape[1:]\n",
    "\n",
    "model = Sequential()\n",
    "\n",
    "# Layer 1\n",
    "model.add(Conv2D(16, (5, 5), padding=\"SAME\", input_shape=input_shape, kernel_initializer=\"he_normal\"))\n",
    "model.add(BatchNormalization(axis=-1))\n",
    "model.add(Activation(\"relu\"))\n",
    "\n",
    "# Layer 2\n",
    "model.add(Conv2D(32, (3, 3), padding=\"SAME\", kernel_initializer=\"he_normal\"))\n",
    "model.add(BatchNormalization(axis=-1))\n",
    "model.add(Activation(\"relu\"))\n",
    "model.add(MaxPooling2D(pool_size=(2, 2)))\n",
    "\n",
    "# Layer 3\n",
    "model.add(Conv2D(64, (5, 5), kernel_initializer=\"he_normal\"))\n",
    "model.add(BatchNormalization(axis=-1))\n",
    "model.add(Activation(\"relu\"))\n",
    "\n",
    "# Layer 4\n",
    "model.add(Conv2D(128, (3, 3), kernel_initializer=\"he_normal\"))\n",
    "model.add(BatchNormalization(axis=-1))\n",
    "model.add(Activation(\"relu\"))\n",
    "model.add(MaxPooling2D(pool_size=(2, 2)))\n",
    "\n",
    "# Layer 5\n",
    "model.add(Conv2D(256, (3, 3), kernel_initializer=\"he_normal\"))\n",
    "model.add(BatchNormalization(axis=-1))\n",
    "model.add(Activation(\"relu\"))\n",
    "\n",
    "# Layer 6\n",
    "model.add(Conv2D(128, (2, 2), kernel_initializer=\"he_normal\"))\n",
    "model.add(BatchNormalization(axis=-1))\n",
    "model.add(Activation('relu'))\n",
    "\n",
    "# Layer 7\n",
    "model.add(Conv2D(64, (1, 1), kernel_initializer=\"he_normal\"))\n",
    "model.add(BatchNormalization(axis=-1))\n",
    "model.add(Activation(\"relu\"))\n",
    "\n",
    "# Layer 8\n",
    "model.add(Conv2D(32, (1, 1), kernel_initializer=\"he_normal\"))\n",
    "model.add(Activation('relu'))\n",
    "model.add(Flatten())\n",
    "model.add(Dense(512))\n",
    "model.add(Activation('relu'))\n",
    "model.add(Dense(256))\n",
    "model.add(Activation('sigmoid'))\n",
    "\n",
    "model.compile(loss=\"binary_crossentropy\", optimizer=\"adam\", metrics=['categorical_accuracy'])"
   ]
  },
  {
   "cell_type": "code",
   "execution_count": 95,
   "metadata": {},
   "outputs": [
    {
     "name": "stdout",
     "output_type": "stream",
     "text": [
      "Train on 20000 samples, validate on 1024 samples\n",
      "Epoch 1/20\n",
      "20000/20000 [==============================] - 269s 13ms/step - loss: 0.0233 - categorical_accuracy: 0.1966 - val_loss: 0.0115 - val_categorical_accuracy: 0.4795\n",
      "Epoch 2/20\n",
      "20000/20000 [==============================] - 263s 13ms/step - loss: 0.0039 - categorical_accuracy: 0.8599 - val_loss: 0.0037 - val_categorical_accuracy: 0.8643\n",
      "Epoch 3/20\n",
      "20000/20000 [==============================] - 270s 13ms/step - loss: 0.0019 - categorical_accuracy: 0.9409 - val_loss: 0.0021 - val_categorical_accuracy: 0.9336\n",
      "Epoch 4/20\n",
      "20000/20000 [==============================] - 268s 13ms/step - loss: 0.0013 - categorical_accuracy: 0.9605 - val_loss: 0.0014 - val_categorical_accuracy: 0.9561\n",
      "Epoch 5/20\n",
      "20000/20000 [==============================] - 270s 14ms/step - loss: 9.5753e-04 - categorical_accuracy: 0.9706 - val_loss: 0.0012 - val_categorical_accuracy: 0.9639\n",
      "Epoch 6/20\n",
      " 9984/20000 [=============>................] - ETA: 2:08 - loss: 6.8418e-04 - categorical_accuracy: 0.9787"
     ]
    },
    {
     "ename": "KeyboardInterrupt",
     "evalue": "",
     "output_type": "error",
     "traceback": [
      "\u001b[0;31m---------------------------------------------------------------------------\u001b[0m",
      "\u001b[0;31mKeyboardInterrupt\u001b[0m                         Traceback (most recent call last)",
      "\u001b[0;32m<ipython-input-95-6aaa45a6988a>\u001b[0m in \u001b[0;36m<module>\u001b[0;34m()\u001b[0m\n\u001b[1;32m      1\u001b[0m \u001b[0;31m# training\u001b[0m\u001b[0;34m\u001b[0m\u001b[0;34m\u001b[0m\u001b[0m\n\u001b[1;32m      2\u001b[0m \u001b[0mepochs\u001b[0m \u001b[0;34m=\u001b[0m \u001b[0;36m20\u001b[0m\u001b[0;34m\u001b[0m\u001b[0m\n\u001b[0;32m----> 3\u001b[0;31m \u001b[0mmodel\u001b[0m\u001b[0;34m.\u001b[0m\u001b[0mfit\u001b[0m\u001b[0;34m(\u001b[0m\u001b[0mX\u001b[0m\u001b[0;34m,\u001b[0m \u001b[0my\u001b[0m\u001b[0;34m,\u001b[0m \u001b[0mbatch_size\u001b[0m\u001b[0;34m=\u001b[0m\u001b[0;36m32\u001b[0m\u001b[0;34m,\u001b[0m \u001b[0mepochs\u001b[0m\u001b[0;34m=\u001b[0m\u001b[0mepochs\u001b[0m\u001b[0;34m,\u001b[0m \u001b[0mvalidation_data\u001b[0m\u001b[0;34m=\u001b[0m\u001b[0;34m(\u001b[0m\u001b[0mX_test\u001b[0m\u001b[0;34m,\u001b[0m \u001b[0my_test\u001b[0m\u001b[0;34m)\u001b[0m\u001b[0;34m)\u001b[0m\u001b[0;34m\u001b[0m\u001b[0m\n\u001b[0m",
      "\u001b[0;32m/Users/holteiu/python3-env/lib/python3.6/site-packages/keras/engine/training.py\u001b[0m in \u001b[0;36mfit\u001b[0;34m(self, x, y, batch_size, epochs, verbose, callbacks, validation_split, validation_data, shuffle, class_weight, sample_weight, initial_epoch, steps_per_epoch, validation_steps, **kwargs)\u001b[0m\n\u001b[1;32m   1037\u001b[0m                                         \u001b[0minitial_epoch\u001b[0m\u001b[0;34m=\u001b[0m\u001b[0minitial_epoch\u001b[0m\u001b[0;34m,\u001b[0m\u001b[0;34m\u001b[0m\u001b[0m\n\u001b[1;32m   1038\u001b[0m                                         \u001b[0msteps_per_epoch\u001b[0m\u001b[0;34m=\u001b[0m\u001b[0msteps_per_epoch\u001b[0m\u001b[0;34m,\u001b[0m\u001b[0;34m\u001b[0m\u001b[0m\n\u001b[0;32m-> 1039\u001b[0;31m                                         validation_steps=validation_steps)\n\u001b[0m\u001b[1;32m   1040\u001b[0m \u001b[0;34m\u001b[0m\u001b[0m\n\u001b[1;32m   1041\u001b[0m     def evaluate(self, x=None, y=None,\n",
      "\u001b[0;32m/Users/holteiu/python3-env/lib/python3.6/site-packages/keras/engine/training_arrays.py\u001b[0m in \u001b[0;36mfit_loop\u001b[0;34m(model, f, ins, out_labels, batch_size, epochs, verbose, callbacks, val_f, val_ins, shuffle, callback_metrics, initial_epoch, steps_per_epoch, validation_steps)\u001b[0m\n\u001b[1;32m    197\u001b[0m                     \u001b[0mins_batch\u001b[0m\u001b[0;34m[\u001b[0m\u001b[0mi\u001b[0m\u001b[0;34m]\u001b[0m \u001b[0;34m=\u001b[0m \u001b[0mins_batch\u001b[0m\u001b[0;34m[\u001b[0m\u001b[0mi\u001b[0m\u001b[0;34m]\u001b[0m\u001b[0;34m.\u001b[0m\u001b[0mtoarray\u001b[0m\u001b[0;34m(\u001b[0m\u001b[0;34m)\u001b[0m\u001b[0;34m\u001b[0m\u001b[0m\n\u001b[1;32m    198\u001b[0m \u001b[0;34m\u001b[0m\u001b[0m\n\u001b[0;32m--> 199\u001b[0;31m                 \u001b[0mouts\u001b[0m \u001b[0;34m=\u001b[0m \u001b[0mf\u001b[0m\u001b[0;34m(\u001b[0m\u001b[0mins_batch\u001b[0m\u001b[0;34m)\u001b[0m\u001b[0;34m\u001b[0m\u001b[0m\n\u001b[0m\u001b[1;32m    200\u001b[0m                 \u001b[0mouts\u001b[0m \u001b[0;34m=\u001b[0m \u001b[0mto_list\u001b[0m\u001b[0;34m(\u001b[0m\u001b[0mouts\u001b[0m\u001b[0;34m)\u001b[0m\u001b[0;34m\u001b[0m\u001b[0m\n\u001b[1;32m    201\u001b[0m                 \u001b[0;32mfor\u001b[0m \u001b[0ml\u001b[0m\u001b[0;34m,\u001b[0m \u001b[0mo\u001b[0m \u001b[0;32min\u001b[0m \u001b[0mzip\u001b[0m\u001b[0;34m(\u001b[0m\u001b[0mout_labels\u001b[0m\u001b[0;34m,\u001b[0m \u001b[0mouts\u001b[0m\u001b[0;34m)\u001b[0m\u001b[0;34m:\u001b[0m\u001b[0;34m\u001b[0m\u001b[0m\n",
      "\u001b[0;32m/Users/holteiu/python3-env/lib/python3.6/site-packages/keras/backend/tensorflow_backend.py\u001b[0m in \u001b[0;36m__call__\u001b[0;34m(self, inputs)\u001b[0m\n\u001b[1;32m   2713\u001b[0m                 \u001b[0;32mreturn\u001b[0m \u001b[0mself\u001b[0m\u001b[0;34m.\u001b[0m\u001b[0m_legacy_call\u001b[0m\u001b[0;34m(\u001b[0m\u001b[0minputs\u001b[0m\u001b[0;34m)\u001b[0m\u001b[0;34m\u001b[0m\u001b[0m\n\u001b[1;32m   2714\u001b[0m \u001b[0;34m\u001b[0m\u001b[0m\n\u001b[0;32m-> 2715\u001b[0;31m             \u001b[0;32mreturn\u001b[0m \u001b[0mself\u001b[0m\u001b[0;34m.\u001b[0m\u001b[0m_call\u001b[0m\u001b[0;34m(\u001b[0m\u001b[0minputs\u001b[0m\u001b[0;34m)\u001b[0m\u001b[0;34m\u001b[0m\u001b[0m\n\u001b[0m\u001b[1;32m   2716\u001b[0m         \u001b[0;32melse\u001b[0m\u001b[0;34m:\u001b[0m\u001b[0;34m\u001b[0m\u001b[0m\n\u001b[1;32m   2717\u001b[0m             \u001b[0;32mif\u001b[0m \u001b[0mpy_any\u001b[0m\u001b[0;34m(\u001b[0m\u001b[0mis_tensor\u001b[0m\u001b[0;34m(\u001b[0m\u001b[0mx\u001b[0m\u001b[0;34m)\u001b[0m \u001b[0;32mfor\u001b[0m \u001b[0mx\u001b[0m \u001b[0;32min\u001b[0m \u001b[0minputs\u001b[0m\u001b[0;34m)\u001b[0m\u001b[0;34m:\u001b[0m\u001b[0;34m\u001b[0m\u001b[0m\n",
      "\u001b[0;32m/Users/holteiu/python3-env/lib/python3.6/site-packages/keras/backend/tensorflow_backend.py\u001b[0m in \u001b[0;36m_call\u001b[0;34m(self, inputs)\u001b[0m\n\u001b[1;32m   2673\u001b[0m             \u001b[0mfetched\u001b[0m \u001b[0;34m=\u001b[0m \u001b[0mself\u001b[0m\u001b[0;34m.\u001b[0m\u001b[0m_callable_fn\u001b[0m\u001b[0;34m(\u001b[0m\u001b[0;34m*\u001b[0m\u001b[0marray_vals\u001b[0m\u001b[0;34m,\u001b[0m \u001b[0mrun_metadata\u001b[0m\u001b[0;34m=\u001b[0m\u001b[0mself\u001b[0m\u001b[0;34m.\u001b[0m\u001b[0mrun_metadata\u001b[0m\u001b[0;34m)\u001b[0m\u001b[0;34m\u001b[0m\u001b[0m\n\u001b[1;32m   2674\u001b[0m         \u001b[0;32melse\u001b[0m\u001b[0;34m:\u001b[0m\u001b[0;34m\u001b[0m\u001b[0m\n\u001b[0;32m-> 2675\u001b[0;31m             \u001b[0mfetched\u001b[0m \u001b[0;34m=\u001b[0m \u001b[0mself\u001b[0m\u001b[0;34m.\u001b[0m\u001b[0m_callable_fn\u001b[0m\u001b[0;34m(\u001b[0m\u001b[0;34m*\u001b[0m\u001b[0marray_vals\u001b[0m\u001b[0;34m)\u001b[0m\u001b[0;34m\u001b[0m\u001b[0m\n\u001b[0m\u001b[1;32m   2676\u001b[0m         \u001b[0;32mreturn\u001b[0m \u001b[0mfetched\u001b[0m\u001b[0;34m[\u001b[0m\u001b[0;34m:\u001b[0m\u001b[0mlen\u001b[0m\u001b[0;34m(\u001b[0m\u001b[0mself\u001b[0m\u001b[0;34m.\u001b[0m\u001b[0moutputs\u001b[0m\u001b[0;34m)\u001b[0m\u001b[0;34m]\u001b[0m\u001b[0;34m\u001b[0m\u001b[0m\n\u001b[1;32m   2677\u001b[0m \u001b[0;34m\u001b[0m\u001b[0m\n",
      "\u001b[0;32m/Users/holteiu/python3-env/lib/python3.6/site-packages/tensorflow/python/client/session.py\u001b[0m in \u001b[0;36m__call__\u001b[0;34m(self, *args, **kwargs)\u001b[0m\n\u001b[1;32m   1437\u001b[0m           ret = tf_session.TF_SessionRunCallable(\n\u001b[1;32m   1438\u001b[0m               \u001b[0mself\u001b[0m\u001b[0;34m.\u001b[0m\u001b[0m_session\u001b[0m\u001b[0;34m.\u001b[0m\u001b[0m_session\u001b[0m\u001b[0;34m,\u001b[0m \u001b[0mself\u001b[0m\u001b[0;34m.\u001b[0m\u001b[0m_handle\u001b[0m\u001b[0;34m,\u001b[0m \u001b[0margs\u001b[0m\u001b[0;34m,\u001b[0m \u001b[0mstatus\u001b[0m\u001b[0;34m,\u001b[0m\u001b[0;34m\u001b[0m\u001b[0m\n\u001b[0;32m-> 1439\u001b[0;31m               run_metadata_ptr)\n\u001b[0m\u001b[1;32m   1440\u001b[0m         \u001b[0;32mif\u001b[0m \u001b[0mrun_metadata\u001b[0m\u001b[0;34m:\u001b[0m\u001b[0;34m\u001b[0m\u001b[0m\n\u001b[1;32m   1441\u001b[0m           \u001b[0mproto_data\u001b[0m \u001b[0;34m=\u001b[0m \u001b[0mtf_session\u001b[0m\u001b[0;34m.\u001b[0m\u001b[0mTF_GetBuffer\u001b[0m\u001b[0;34m(\u001b[0m\u001b[0mrun_metadata_ptr\u001b[0m\u001b[0;34m)\u001b[0m\u001b[0;34m\u001b[0m\u001b[0m\n",
      "\u001b[0;31mKeyboardInterrupt\u001b[0m: "
     ]
    }
   ],
   "source": [
    "# training\n",
    "epochs = 20\n",
    "model.fit(X, y, batch_size=32, epochs=epochs, validation_data=(X_test, y_test))"
   ]
  },
  {
   "cell_type": "code",
   "execution_count": 96,
   "metadata": {},
   "outputs": [
    {
     "name": "stdout",
     "output_type": "stream",
     "text": [
      "1024/1024 [==============================] - 3s 3ms/step\n",
      "[0.001086571221549093, 0.9638671875]\n"
     ]
    }
   ],
   "source": [
    "print(model.evaluate(X_test, y_test, batch_size=32))"
   ]
  },
  {
   "cell_type": "code",
   "execution_count": 99,
   "metadata": {},
   "outputs": [],
   "source": [
    "# model\n",
    "number_of_classes = 256\n",
    "data_height = 28\n",
    "data_width = 84\n",
    "input_shape = X.shape[1:]\n",
    "\n",
    "model = Sequential()\n",
    "\n",
    "# Layer 1\n",
    "model.add(Conv2D(16, (5, 5), padding=\"SAME\", input_shape=input_shape, kernel_initializer=\"he_normal\"))\n",
    "model.add(BatchNormalization(axis=-1))\n",
    "model.add(Activation(\"relu\"))\n",
    "\n",
    "# Layer 2\n",
    "model.add(Conv2D(32, (3, 3), padding=\"SAME\", kernel_initializer=\"he_normal\"))\n",
    "model.add(BatchNormalization(axis=-1))\n",
    "model.add(Activation(\"relu\"))\n",
    "model.add(MaxPooling2D(pool_size=(2, 2)))\n",
    "\n",
    "# Layer 3\n",
    "model.add(Conv2D(64, (5, 5), kernel_initializer=\"he_normal\"))\n",
    "model.add(BatchNormalization(axis=-1))\n",
    "model.add(Activation(\"relu\"))\n",
    "\n",
    "# Layer 4\n",
    "model.add(Conv2D(128, (3, 3), kernel_initializer=\"he_normal\"))\n",
    "model.add(BatchNormalization(axis=-1))\n",
    "model.add(Activation(\"relu\"))\n",
    "model.add(MaxPooling2D(pool_size=(2, 2)))\n",
    "\n",
    "# Layer 5\n",
    "model.add(Conv2D(256, (3, 3), kernel_initializer=\"he_normal\"))\n",
    "model.add(BatchNormalization(axis=-1))\n",
    "model.add(Activation(\"relu\"))\n",
    "\n",
    "# Layer 6\n",
    "model.add(Conv2D(128, (2, 2), kernel_initializer=\"he_normal\"))\n",
    "model.add(BatchNormalization(axis=-1))\n",
    "model.add(Activation('relu'))\n",
    "\n",
    "# Layer 7\n",
    "model.add(Conv2D(64, (1, 1), kernel_initializer=\"he_normal\"))\n",
    "model.add(BatchNormalization(axis=-1))\n",
    "model.add(Activation(\"relu\"))\n",
    "\n",
    "# Layer 8\n",
    "model.add(Conv2D(32, (1, 1), kernel_initializer=\"he_normal\"))\n",
    "model.add(Activation('relu'))\n",
    "model.add(Flatten())\n",
    "model.add(Dense(512))\n",
    "model.add(Activation('relu'))\n",
    "model.add(Dense(256))\n",
    "model.add(Activation('softmax'))\n",
    "\n",
    "model.compile(loss=\"categorical_crossentropy\", optimizer=\"adam\", metrics=['categorical_accuracy'])"
   ]
  },
  {
   "cell_type": "code",
   "execution_count": 100,
   "metadata": {},
   "outputs": [
    {
     "name": "stdout",
     "output_type": "stream",
     "text": [
      "Train on 18000 samples, validate on 2000 samples\n",
      "Epoch 1/10\n",
      "18000/18000 [==============================] - 244s 14ms/step - loss: 2.4389 - categorical_accuracy: 0.4457 - val_loss: 1.0689 - val_categorical_accuracy: 0.7120\n",
      "Epoch 2/10\n",
      "18000/18000 [==============================] - 234s 13ms/step - loss: 0.3736 - categorical_accuracy: 0.8962 - val_loss: 0.6379 - val_categorical_accuracy: 0.8260\n",
      "Epoch 3/10\n",
      "18000/18000 [==============================] - 238s 13ms/step - loss: 0.2102 - categorical_accuracy: 0.9386 - val_loss: 0.3409 - val_categorical_accuracy: 0.9080\n",
      "Epoch 4/10\n",
      "18000/18000 [==============================] - 244s 14ms/step - loss: 0.1577 - categorical_accuracy: 0.9558 - val_loss: 0.3622 - val_categorical_accuracy: 0.9060\n",
      "Epoch 5/10\n",
      "18000/18000 [==============================] - 244s 14ms/step - loss: 0.1238 - categorical_accuracy: 0.9635 - val_loss: 0.2279 - val_categorical_accuracy: 0.9425\n",
      "Epoch 6/10\n",
      "18000/18000 [==============================] - 244s 14ms/step - loss: 0.0917 - categorical_accuracy: 0.9729 - val_loss: 0.2402 - val_categorical_accuracy: 0.9420\n",
      "Epoch 7/10\n",
      "18000/18000 [==============================] - 249s 14ms/step - loss: 0.0913 - categorical_accuracy: 0.9735 - val_loss: 0.1903 - val_categorical_accuracy: 0.9465\n",
      "Epoch 8/10\n",
      "18000/18000 [==============================] - 246s 14ms/step - loss: 0.0700 - categorical_accuracy: 0.9800 - val_loss: 0.2886 - val_categorical_accuracy: 0.9280\n",
      "Epoch 9/10\n",
      "18000/18000 [==============================] - 246s 14ms/step - loss: 0.0702 - categorical_accuracy: 0.9791 - val_loss: 0.2136 - val_categorical_accuracy: 0.9435\n",
      "Epoch 10/10\n",
      "18000/18000 [==============================] - 244s 14ms/step - loss: 0.0693 - categorical_accuracy: 0.9795 - val_loss: 0.2828 - val_categorical_accuracy: 0.9420\n"
     ]
    },
    {
     "data": {
      "text/plain": [
       "<keras.callbacks.History at 0x159705470>"
      ]
     },
     "execution_count": 100,
     "metadata": {},
     "output_type": "execute_result"
    }
   ],
   "source": [
    "# training\n",
    "epochs = 10\n",
    "model.fit(X, y, batch_size=32, epochs=epochs, validation_split=0.1)"
   ]
  },
  {
   "cell_type": "code",
   "execution_count": 101,
   "metadata": {},
   "outputs": [
    {
     "name": "stdout",
     "output_type": "stream",
     "text": [
      "1024/1024 [==============================] - 3s 3ms/step\n",
      "[0.19805248358170502, 0.9501953125]\n"
     ]
    }
   ],
   "source": [
    "print(model.evaluate(X_test, y_test, batch_size=32))"
   ]
  },
  {
   "cell_type": "code",
   "execution_count": 103,
   "metadata": {},
   "outputs": [
    {
     "data": {
      "text/plain": [
       "['loss', 'categorical_accuracy']"
      ]
     },
     "execution_count": 103,
     "metadata": {},
     "output_type": "execute_result"
    }
   ],
   "source": [
    "model.metrics_names"
   ]
  },
  {
   "cell_type": "code",
   "execution_count": 106,
   "metadata": {},
   "outputs": [
    {
     "name": "stdout",
     "output_type": "stream",
     "text": [
      "WARNING:tensorflow:From /Users/holteiu/python3-env/lib/python3.6/site-packages/tensorflow/python/ops/init_ops.py:87: calling VarianceScaling.__init__ (from tensorflow.python.ops.init_ops) with distribution=normal is deprecated and will be removed in a future version.\n",
      "Instructions for updating:\n",
      "`normal` is a deprecated alias for `truncated_normal`\n",
      "1024/1024 [==============================] - 4s 4ms/step\n",
      "[0.19805248358170502, 0.9501953125]\n"
     ]
    }
   ],
   "source": [
    "# from tensorflow.keras.models import save_model\n",
    "filepath = \"test.h5\"\n",
    "# save_model(\n",
    "#     model,\n",
    "#     filepath,\n",
    "#     overwrite=True,\n",
    "#     include_optimizer=False\n",
    "# )\n",
    "from tensorflow.keras.models import load_model\n",
    "\n",
    "# Creates a HDF5 file 'my_model.h5'\n",
    "model.save('test.h5')\n",
    "\n",
    "# Deletes the existing model\n",
    "# del model  \n",
    "\n",
    "# Returns a compiled model identical to the previous one\n",
    "loaded_model = load_model('test.h5')\n",
    "print(loaded_model.evaluate(X_test, y_test, batch_size=32))"
   ]
  },
  {
   "cell_type": "code",
   "execution_count": 107,
   "metadata": {},
   "outputs": [],
   "source": [
    "def save_model(model, path):\n",
    "    model.save(path)\n",
    "\n",
    "def load_model(path):\n",
    "    return load_model(path)"
   ]
  },
  {
   "cell_type": "code",
   "execution_count": 123,
   "metadata": {},
   "outputs": [],
   "source": [
    "def create_model(optimizer, lr): # optimizer is a string can be adam or sgd\n",
    "    # needed constants\n",
    "    number_of_classes = 256\n",
    "    data_height = 28\n",
    "    data_width = 84\n",
    "    input_shape = X.shape[1:]\n",
    "    \n",
    "    # create optimizer (the only thing that varies and we are trying to tune)\n",
    "    # it can be either SGD or Adam and it can have variable learning rate\n",
    "    if optimizer == \"sgd\":\n",
    "        my_optimizer = SGD(lr=lr)\n",
    "    elif optimizer == \"adam\":\n",
    "        my_optimizer = Adam(lr=lr)\n",
    "    else:\n",
    "        my_optimizer = \"adam\" # make the optimizer default adam if an unknown is being specified\n",
    "\n",
    "    # model\n",
    "    model = Sequential()\n",
    "\n",
    "    # Layer 1\n",
    "    model.add(Conv2D(16, (5, 5), padding=\"SAME\", input_shape=input_shape, kernel_initializer=\"he_normal\"))\n",
    "    model.add(BatchNormalization(axis=-1))\n",
    "    model.add(Activation(\"relu\"))\n",
    "\n",
    "    # Layer 2\n",
    "    model.add(Conv2D(32, (3, 3), padding=\"SAME\", kernel_initializer=\"he_normal\"))\n",
    "    model.add(BatchNormalization(axis=-1))\n",
    "    model.add(Activation(\"relu\"))\n",
    "    model.add(MaxPooling2D(pool_size=(2, 2)))\n",
    "\n",
    "    # Layer 3\n",
    "    model.add(Conv2D(64, (5, 5), kernel_initializer=\"he_normal\"))\n",
    "    model.add(BatchNormalization(axis=-1))\n",
    "    model.add(Activation(\"relu\"))\n",
    "\n",
    "    # Layer 4\n",
    "    model.add(Conv2D(128, (3, 3), kernel_initializer=\"he_normal\"))\n",
    "    model.add(BatchNormalization(axis=-1))\n",
    "    model.add(Activation(\"relu\"))\n",
    "    model.add(MaxPooling2D(pool_size=(2, 2)))\n",
    "\n",
    "    # Layer 5\n",
    "    model.add(Conv2D(256, (3, 3), kernel_initializer=\"he_normal\"))\n",
    "    model.add(BatchNormalization(axis=-1))\n",
    "    model.add(Activation(\"relu\"))\n",
    "\n",
    "    # Layer 6\n",
    "    model.add(Conv2D(128, (2, 2), kernel_initializer=\"he_normal\"))\n",
    "    model.add(BatchNormalization(axis=-1))\n",
    "    model.add(Activation('relu'))\n",
    "\n",
    "    # Layer 7\n",
    "    model.add(Conv2D(64, (1, 1), kernel_initializer=\"he_normal\"))\n",
    "    model.add(BatchNormalization(axis=-1))\n",
    "    model.add(Activation(\"relu\"))\n",
    "\n",
    "    # Layer 8\n",
    "    model.add(Conv2D(32, (1, 1), kernel_initializer=\"he_normal\"))\n",
    "    model.add(Activation('relu'))\n",
    "    model.add(Flatten())\n",
    "    model.add(Dense(512))\n",
    "    model.add(Activation('relu'))\n",
    "    model.add(Dense(256))\n",
    "    model.add(Activation('softmax'))\n",
    "\n",
    "    model.compile(loss=\"categorical_crossentropy\", optimizer=my_optimizer, metrics=['categorical_accuracy'])\n",
    "    return model"
   ]
  },
  {
   "cell_type": "code",
   "execution_count": 124,
   "metadata": {},
   "outputs": [],
   "source": [
    "test_model = create_model(optimizer=\"sgd\", lr=0.1)"
   ]
  },
  {
   "cell_type": "code",
   "execution_count": 133,
   "metadata": {},
   "outputs": [],
   "source": [
    "def generate_data(number_of_training_pairs=10000, number_of_test_pairs=512): # training and test data will be *2 those\n",
    "    training_set = data_generator.training_generator(10000)\n",
    "    test_set = data_generator.test_generator(512)\n",
    "    X, y, y_sum = next(training_set)\n",
    "    X_test, y_test, y_sum_test = next(test_set)\n",
    "\n",
    "    X1 = [el[0] for el in X]\n",
    "    X2 = [el[1] for el in X]\n",
    "    X = np.array(X1 + X2)\n",
    "\n",
    "    y1 = [el[0] for el in y]\n",
    "    y2 = [el[1] for el in y]\n",
    "    y = np.array(y1 + y2)\n",
    "\n",
    "    X1 = [el[0] for el in X_test]\n",
    "    X2 = [el[1] for el in X_test]\n",
    "    X_test = np.array(X1 + X2)\n",
    "\n",
    "    y1 = [el[0] for el in y_test]\n",
    "    y2 = [el[1] for el in y_test]\n",
    "    y_test = np.array(y1 + y2)\n",
    "    return X, y, X_test, y_test"
   ]
  },
  {
   "cell_type": "code",
   "execution_count": 147,
   "metadata": {},
   "outputs": [
    {
     "name": "stdout",
     "output_type": "stream",
     "text": [
      "Train on 450 samples, validate on 50 samples\n",
      "Epoch 1/5\n",
      "450/450 [==============================] - 6s 13ms/step - loss: 1.1480 - categorical_accuracy: 0.8489 - val_loss: 10.5433 - val_categorical_accuracy: 0.0800\n",
      "Epoch 2/5\n",
      "450/450 [==============================] - 6s 13ms/step - loss: 0.3942 - categorical_accuracy: 0.9556 - val_loss: 8.9899 - val_categorical_accuracy: 0.1400\n",
      "Epoch 3/5\n",
      "450/450 [==============================] - 6s 13ms/step - loss: 0.1506 - categorical_accuracy: 0.9911 - val_loss: 8.0286 - val_categorical_accuracy: 0.1200\n",
      "Epoch 4/5\n",
      "450/450 [==============================] - 6s 13ms/step - loss: 0.1218 - categorical_accuracy: 0.9933 - val_loss: 8.4782 - val_categorical_accuracy: 0.1000\n",
      "Epoch 5/5\n",
      "450/450 [==============================] - 6s 13ms/step - loss: 0.1275 - categorical_accuracy: 0.9911 - val_loss: 8.3671 - val_categorical_accuracy: 0.1200\n"
     ]
    },
    {
     "data": {
      "text/plain": [
       "<keras.callbacks.History at 0x162f8d3c8>"
      ]
     },
     "execution_count": 147,
     "metadata": {},
     "output_type": "execute_result"
    }
   ],
   "source": [
    "class LossAccHistory(keras.callbacks.Callback):\n",
    "    def on_train_begin(self, logs={}):\n",
    "        self.losses = []\n",
    "        self.accuracies = []\n",
    "    \n",
    "    def on_batch_end(self, batch, logs={}):\n",
    "        self.losses.append(logs.get('loss'))\n",
    "        self.accuracies.append(logs.get('categorical_accuracy'))\n",
    "        \n",
    "#     def on_epoch_end(self, epoch, logs={}):\n",
    "#         self.losses.append(logs.get('loss'))\n",
    "#         self.accuracies.append(logs.get('categorical_accuracy'))\n",
    "        \n",
    "# history = LossAccHistory()\n",
    "# test_model.fit(X[0:500], y[0:500], batch_size=32, epochs=5, validation_split=0.1, callbacks=[history])"
   ]
  },
  {
   "cell_type": "code",
   "execution_count": 148,
   "metadata": {},
   "outputs": [
    {
     "name": "stdout",
     "output_type": "stream",
     "text": [
      "[7.9564724, 1.1944323, 0.87889886, 1.0200045, 0.45208138, 0.21060523, 0.7228309, 0.24094003, 1.8075376, 0.2363414, 0.76121944, 0.14856291, 0.3987022, 0.100380555, 0.24653392, 1.7890053, 0.77559346, 0.054110695, 0.09549186, 0.043260794, 1.3083303, 0.08706829, 0.079399064, 0.08174059, 0.08740516, 0.056921907, 0.4620665, 0.5501208, 0.06587903, 0.104383536, 0.054414228, 0.024807712, 0.02603944, 0.023731273, 0.52836597, 0.028588887, 0.5379766, 0.030301126, 0.046189114, 0.023221772, 0.1576784, 0.52122045, 0.053343896, 0.05967178, 0.02585376, 0.012239475, 0.01849955, 0.01249096, 0.010327104, 0.52097785, 0.016067531, 0.51198107, 0.014715387, 0.016183976, 0.5197759, 0.015276787, 0.015541628, 0.011852007, 0.013347808, 0.055449046, 0.045773264, 0.012184987, 0.014783305, 0.080280714, 0.012427762, 0.012179995, 0.0112769455, 0.013792239, 0.5184592, 0.012693517, 0.5153785, 0.011070278, 0.01156084, 0.51682985, 0.06604616]\n",
      "[0.1875, 0.6875, 0.71875, 0.84375, 0.9375, 1.0, 0.9375, 0.96875, 0.84375, 0.90625, 0.96875, 1.0, 0.875, 1.0, 1.0, 0.75, 0.875, 1.0, 0.96875, 1.0, 0.84375, 1.0, 1.0, 1.0, 1.0, 1.0, 0.96875, 0.96875, 1.0, 1.0, 1.0, 1.0, 1.0, 1.0, 0.96875, 1.0, 0.96875, 1.0, 1.0, 1.0, 0.96875, 0.96875, 1.0, 1.0, 1.0, 1.0, 1.0, 1.0, 1.0, 0.96875, 1.0, 0.96875, 1.0, 1.0, 0.96875, 1.0, 1.0, 1.0, 1.0, 1.0, 1.0, 1.0, 1.0, 0.96875, 1.0, 1.0, 1.0, 1.0, 0.96875, 1.0, 0.96875, 1.0, 1.0, 0.96875, 1.0]\n"
     ]
    }
   ],
   "source": [
    "print(history.losses)\n",
    "print(history.accuracies)"
   ]
  },
  {
   "cell_type": "code",
   "execution_count": 150,
   "metadata": {},
   "outputs": [],
   "source": [
    "def plot_losses_per_batch(history):\n",
    "    plt.plot(range(len(history.losses)), history.losses)\n",
    "\n",
    "def plot_accuracies_per_batch(history):\n",
    "    plt.plot(range(len(history.accuracies)), history.accuracies)"
   ]
  },
  {
   "cell_type": "code",
   "execution_count": 165,
   "metadata": {},
   "outputs": [
    {
     "name": "stdout",
     "output_type": "stream",
     "text": [
      "Train on 450 samples, validate on 50 samples\n",
      "Epoch 1/2\n",
      "450/450 [==============================] - 13s 29ms/step - loss: 5.6851 - categorical_accuracy: 0.0556 - val_loss: 7.6761 - val_categorical_accuracy: 0.0000e+00\n",
      "Epoch 2/2\n",
      "450/450 [==============================] - 6s 14ms/step - loss: 3.5138 - categorical_accuracy: 0.2844 - val_loss: 9.9112 - val_categorical_accuracy: 0.0400\n"
     ]
    }
   ],
   "source": [
    "model1, history = train_model(test_model, X, y)"
   ]
  },
  {
   "cell_type": "code",
   "execution_count": 166,
   "metadata": {},
   "outputs": [
    {
     "name": "stdout",
     "output_type": "stream",
     "text": [
      "1024/1024 [==============================] - 3s 3ms/step\n",
      "[9.282231956720352, 0.021484375]\n",
      "1024/1024 [==============================] - 3s 3ms/step\n",
      "[9.282231956720352, 0.021484375]\n"
     ]
    }
   ],
   "source": [
    "print(model1.evaluate(X_test, y_test))\n",
    "print(test_model.evaluate(X_test, y_test))"
   ]
  },
  {
   "cell_type": "code",
   "execution_count": 174,
   "metadata": {},
   "outputs": [
    {
     "name": "stdout",
     "output_type": "stream",
     "text": [
      "Params:  meh\n",
      "100/100 [==============================] - 0s 4ms/step\n",
      "[Loss, Accuracy]:  [9.232184143066407, 0.0]\n",
      "Params:  meh\n",
      "100/100 [==============================] - 0s 4ms/step\n",
      "[Loss, Accuracy]:  [9.232184143066407, 0.0]\n"
     ]
    }
   ],
   "source": [
    "mdl = [{\"model\": model1, \"params\": \"meh\"}, {\"model\": test_model, \"params\": \"meh\"}]\n",
    "# print(mdl)\n",
    "mdl = evaluate_all_models(mdl, X_test[0:100], y_test[0:100])\n",
    "# print(mdl)"
   ]
  },
  {
   "cell_type": "code",
   "execution_count": null,
   "metadata": {},
   "outputs": [],
   "source": []
  }
 ],
 "metadata": {
  "kernelspec": {
   "display_name": "Python 3",
   "language": "python",
   "name": "python3"
  },
  "language_info": {
   "codemirror_mode": {
    "name": "ipython",
    "version": 3
   },
   "file_extension": ".py",
   "mimetype": "text/x-python",
   "name": "python",
   "nbconvert_exporter": "python",
   "pygments_lexer": "ipython3",
   "version": "3.6.5"
  }
 },
 "nbformat": 4,
 "nbformat_minor": 2
}
