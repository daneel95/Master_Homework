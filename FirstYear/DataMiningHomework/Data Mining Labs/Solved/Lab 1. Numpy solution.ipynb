{
 "cells": [
  {
   "cell_type": "code",
   "execution_count": 1,
   "metadata": {
    "colab": {},
    "colab_type": "code",
    "id": "fGBIX_qswX1j"
   },
   "outputs": [],
   "source": [
    "# Some IPython magic\n",
    "# Put these at the top of every notebook, to get automatic reloading and inline plotting\n",
    "%reload_ext autoreload\n",
    "%autoreload 2\n",
    "\n",
    "import numpy as np\n"
   ]
  },
  {
   "cell_type": "markdown",
   "metadata": {
    "colab_type": "text",
    "id": "67Go-vHcwX1s"
   },
   "source": [
    "# 1<sup>st</sup> lab. Python for science and ML\n",
    "\n",
    "**Cheat sheets:**\n",
    "- [python](https://perso.limsi.fr/pointal/_media/python:cours:mementopython3-english.pdf)\n",
    "- [numpy](https://s3.amazonaws.com/assets.datacamp.com/blog_assets/Numpy_Python_Cheat_Sheet.pdf)\n",
    "- [matplotlib](https://s3.amazonaws.com/assets.datacamp.com/blog_assets/Python_Matplotlib_Cheat_Sheet.pdf)\n",
    "- [sklearn](https://s3.amazonaws.com/assets.datacamp.com/blog_assets/Scikit_Learn_Cheat_Sheet_Python.pdf)\n",
    "- [pandas](https://github.com/pandas-dev/pandas/blob/master/doc/cheatsheet/Pandas_Cheat_Sheet.pdf)\n",
    "\n",
    "**Other:**\n",
    "- [Supervised Learning](https://github.com/afshinea/stanford-cs-229-machine-learning/blob/master/cheatsheet-supervised-learning.pdf)\n",
    "- [Unsupervised Learning](https://github.com/afshinea/stanford-cs-229-machine-learning/blob/master/cheatsheet-unsupervised-learning.pdf)\n",
    "- [Deep Learning](https://github.com/afshinea/stanford-cs-229-machine-learning/blob/master/cheatsheet-deep-learning.pdf)\n",
    "- [Tips & Tricks](https://github.com/afshinea/stanford-cs-229-machine-learning/blob/master/cheatsheet-machine-learning-tips-and-tricks.pdf)\n",
    "- [Probabilities & Stats Refresher](https://github.com/afshinea/stanford-cs-229-machine-learning/blob/master/refresher-probabilities-statistics.pdf)\n",
    "- [Algebra & Calculus Refresher](https://github.com/afshinea/stanford-cs-229-machine-learning/blob/master/refresher-algebra-calculus.pdf)\n"
   ]
  },
  {
   "cell_type": "markdown",
   "metadata": {
    "colab_type": "text",
    "id": "9fvGxyLxwX1t"
   },
   "source": [
    "## Python scientific computing ecosystem\n",
    "For scientific computing we need an environment that is easy to use, and provides a couple of tools like manipulating data and visualizing results.\n",
    "Python is very easy to use, but the downside is that it's not fast at numerical computing. Luckily, we have very eficient libraries for all our use-cases."
   ]
  },
  {
   "cell_type": "markdown",
   "metadata": {
    "colab_type": "text",
    "id": "cvgqDu4TwX1u"
   },
   "source": [
    "## Libraries\n",
    "\n",
    "### Core computing libraries\n",
    "\n",
    "- `numpy` and `scipy`: scientific computing\n",
    "- `matplotlib`: plotting library\n",
    "\n",
    "### Machine Learning\n",
    "- `sklearn`: machine learning toolkit\n",
    "- `tensorflow`: deep learning framework\n",
    "- `keras`: deep learning framework on top of `tensorflow` for easier implementation\n",
    "\n",
    "## Statistics and data analysis\n",
    "- `pandas`: very popular data analysis library\n",
    "- `statsmodels`: statistics\n",
    "\n",
    "We also have advanced interactive environments:\n",
    "- Ipython: advanced python console\n",
    "- Jupyter: notebooks in the browser\n",
    "\n",
    "There are many more scientific libraries available."
   ]
  },
  {
   "cell_type": "markdown",
   "metadata": {
    "colab_type": "text",
    "id": "0xOjihvErrKu"
   },
   "source": [
    "# Python Crash Course"
   ]
  },
  {
   "cell_type": "markdown",
   "metadata": {
    "colab_type": "text",
    "id": "5VXRUasZr2rB"
   },
   "source": [
    "### Basic Syntax\n",
    "\n",
    "Most languages use curly braces to group pieces of code. Instead, python makes use of indentation to the same effect. Everything on the same indentation level is part of the same group of code."
   ]
  },
  {
   "cell_type": "markdown",
   "metadata": {
    "colab_type": "text",
    "id": "qMQSUMgl3zVk"
   },
   "source": [
    "### For loop\n",
    "Python `for` is different from the C-like `for`. The closest to the C-like `for` is:"
   ]
  },
  {
   "cell_type": "code",
   "execution_count": 0,
   "metadata": {
    "colab": {},
    "colab_type": "code",
    "id": "B4XdvSgv4BcN"
   },
   "outputs": [],
   "source": [
    "numbers = [7, 5, 10, 3, 2]\n",
    "N = len(numbers)\n",
    "\n",
    "for i in range(N):\n",
    "  print(numbers[i])"
   ]
  },
  {
   "cell_type": "markdown",
   "metadata": {
    "colab_type": "text",
    "id": "82MKmOS8tNaO"
   },
   "source": [
    "\n",
    "However, the *pythonic* way (this means the recommended way) to iterate over a list is  `for .. in ..` ."
   ]
  },
  {
   "cell_type": "code",
   "execution_count": 0,
   "metadata": {
    "colab": {},
    "colab_type": "code",
    "id": "tJkl26EZt0Zw"
   },
   "outputs": [],
   "source": [
    "numbers = [1, 2, 3, 4, 5] \n",
    "\n",
    "for number in numbers:\n",
    "  print(number)\n",
    "  \n",
    "print('Done!')"
   ]
  },
  {
   "cell_type": "markdown",
   "metadata": {
    "colab_type": "text",
    "id": "y07gUahwwvhQ"
   },
   "source": [
    "### More lists\n",
    "\n",
    "Python lists are very versatile. "
   ]
  },
  {
   "cell_type": "code",
   "execution_count": 0,
   "metadata": {
    "colab": {},
    "colab_type": "code",
    "id": "s62826gww4Kg"
   },
   "outputs": [],
   "source": [
    "shopping_list = ['bread', 'milk', 'cereal']\n",
    "\n",
    "shopping_list.append('orange juice') # add an element to a list\n",
    "\n",
    "shopping_list = shopping_list + ['lemon juice', 'cat food'] # add multiple elements \n",
    "\n",
    "shopping_list"
   ]
  },
  {
   "cell_type": "code",
   "execution_count": 0,
   "metadata": {
    "colab": {},
    "colab_type": "code",
    "id": "DlJgxmmtxlXY"
   },
   "outputs": [],
   "source": [
    "for i, item in enumerate(shopping_list): # enumerate also returns the index of an element\n",
    "  print(i, item)"
   ]
  },
  {
   "cell_type": "markdown",
   "metadata": {
    "colab_type": "text",
    "id": "kgRJUMARxzFB"
   },
   "source": [
    "Python lists are not limited only to one data type. You can have as many types as you like!"
   ]
  },
  {
   "cell_type": "code",
   "execution_count": 0,
   "metadata": {
    "colab": {},
    "colab_type": "code",
    "id": "GojTRu5Ux9X5"
   },
   "outputs": [],
   "source": [
    "everything = ['cat food', 3, ['foo', 'bar'], 3.1]"
   ]
  },
  {
   "cell_type": "markdown",
   "metadata": {
    "colab_type": "text",
    "id": "fxD0GGSayy_1"
   },
   "source": [
    "####  List comprehension\n",
    "List comprehension provide a concise way to create lists. Let's create a list of even numbers with list comprehension. "
   ]
  },
  {
   "cell_type": "code",
   "execution_count": 0,
   "metadata": {
    "colab": {},
    "colab_type": "code",
    "id": "mm8coYN9zI-X"
   },
   "outputs": [],
   "source": [
    "even_numbers = [number for number in range(30) if not number % 2]\n",
    "even_numbers"
   ]
  },
  {
   "cell_type": "markdown",
   "metadata": {
    "colab_type": "text",
    "id": "jPNDzyPb5iFI"
   },
   "source": [
    "#### Slicing\n",
    "\n",
    "A convenient way to access elements of a list is by 'slicing' it."
   ]
  },
  {
   "cell_type": "code",
   "execution_count": 0,
   "metadata": {
    "colab": {},
    "colab_type": "code",
    "id": "O3ROYvHU5xML"
   },
   "outputs": [],
   "source": [
    "print(even_numbers[3:])\n",
    "\n",
    "print(even_numbers[2:5])\n",
    "\n",
    "print(even_numbers[:-1])\n",
    "\n",
    "print(even_numbers[-5: -1])"
   ]
  },
  {
   "cell_type": "markdown",
   "metadata": {
    "colab_type": "text",
    "id": "KqdPj7bzuC6Z"
   },
   "source": [
    "\n",
    "### Fizz Buzz\n",
    "\n",
    "Let's see how fizz buzz would be implemented in python: print out 'Fizz' if the number is a multiple of 3, 'Buzz' if the number is a multiple of 5 and 'FizzBuzz' if the number is divizible by both 3 and 5. \n",
    "\n",
    "Python uses the `elif` keyword for writing `else if` branches, to keep everything at the same indentation level."
   ]
  },
  {
   "cell_type": "code",
   "execution_count": 0,
   "metadata": {
    "colab": {},
    "colab_type": "code",
    "id": "Kiu0ZqQFucEE"
   },
   "outputs": [],
   "source": [
    "numbers = range(0, 20) # range() generates a list of numbers\n",
    "\n",
    "for number in numbers:\n",
    "  if not number % 3 and not number % 5: # There is no && or || in python. Just 'and' and 'or'.\n",
    "    print('FizzBuzz')\n",
    "  \n",
    "  elif not number % 3: # elif keyword instead of else if\n",
    "    print('Fizz')\n",
    "    \n",
    "  elif number % 5 == 0: # The common == for comparison\n",
    "    print('Buzz')\n",
    "  \n",
    "  else:\n",
    "    print(number)\n",
    "  \n",
    "    \n",
    "print(\"Done!\")"
   ]
  },
  {
   "cell_type": "markdown",
   "metadata": {
    "colab_type": "text",
    "id": "V42KQ2rIzgBo"
   },
   "source": [
    "### Functions\n",
    "Defining a function is very straight-forward in python. "
   ]
  },
  {
   "cell_type": "code",
   "execution_count": 0,
   "metadata": {
    "colab": {},
    "colab_type": "code",
    "id": "1OQotSKOznd6"
   },
   "outputs": [],
   "source": [
    "def my_function(x):\n",
    "  print(x)\n",
    "\n",
    "my_function(2)\n",
    "my_function(\"foo\")\n",
    "my_function([1, 2, 3])"
   ]
  },
  {
   "cell_type": "markdown",
   "metadata": {
    "colab_type": "text",
    "id": "DdwTosv27WqL"
   },
   "source": [
    "There is no difference in syntax between functions that return something and functions that don't. If there is no return statement, the function still returns `None`."
   ]
  },
  {
   "cell_type": "code",
   "execution_count": 0,
   "metadata": {
    "colab": {},
    "colab_type": "code",
    "id": "QrNhd8nA7O-1"
   },
   "outputs": [],
   "source": [
    "a = my_function(3)\n",
    "print(a)"
   ]
  },
  {
   "cell_type": "code",
   "execution_count": 0,
   "metadata": {
    "colab": {},
    "colab_type": "code",
    "id": "lC9tEH-k8RRi"
   },
   "outputs": [],
   "source": [
    "def my_other_function(x, y):\n",
    "  return x + y, x * y # you can return multiple values (a tuple)\n",
    "\n",
    "a, b = my_other_function(2, 5)\n",
    "print(a, b)"
   ]
  },
  {
   "cell_type": "markdown",
   "metadata": {
    "colab_type": "text",
    "id": "BzfBj1cb2dEg"
   },
   "source": [
    "## Other data types\n"
   ]
  },
  {
   "cell_type": "markdown",
   "metadata": {
    "colab_type": "text",
    "id": "wrVtK7O-3sv1"
   },
   "source": [
    "### Dictionaries\n",
    "\n",
    "Dictionaries are hash sets, having keys and corresponding values. A key can be any hashable type and values can be anything."
   ]
  },
  {
   "cell_type": "code",
   "execution_count": 0,
   "metadata": {
    "colab": {},
    "colab_type": "code",
    "id": "0hsWNcae2oMi"
   },
   "outputs": [],
   "source": [
    "values = {\n",
    "    'foo': 2,\n",
    "    'bar': [1, 2, 3],\n",
    "    'baz': {\n",
    "        'foo': 7\n",
    "    },\n",
    "    2: 10\n",
    "}\n",
    "\n",
    "print(values['foo'])\n",
    "print(values['baz']['foo'])\n",
    "print(values[2])"
   ]
  },
  {
   "cell_type": "markdown",
   "metadata": {
    "colab_type": "text",
    "id": "90HWQML03Zpw"
   },
   "source": [
    "### Set\n"
   ]
  },
  {
   "cell_type": "code",
   "execution_count": 0,
   "metadata": {
    "colab": {},
    "colab_type": "code",
    "id": "BaH4KsAI3x6t"
   },
   "outputs": [],
   "source": [
    "some_numbers = [1, 2, 3, 3, 4, 2, 1]\n",
    "unique_numbers = set(some_numbers)\n",
    "\n",
    "print(unique_numbers)\n",
    "\n",
    "unique_numbers.add(5) # new element\n",
    "unique_numbers.add(2) # element already in set, dosen't add it\n",
    "\n",
    "print(unique_numbers)"
   ]
  },
  {
   "cell_type": "markdown",
   "metadata": {
    "colab_type": "text",
    "id": "XrgG5bYiwX1w"
   },
   "source": [
    "# numpy\n",
    "`numpy` works with tensors of data, the main data structure is `numpy.array` or `numpy.ndarray`.\n",
    "\n",
    "\n",
    "**Why it is useful:** Memory-efficient container that provides fast numerical operations."
   ]
  },
  {
   "cell_type": "markdown",
   "metadata": {
    "colab_type": "text",
    "id": "RYBqDAZM9Ctx"
   },
   "source": [
    "### Speed test"
   ]
  },
  {
   "cell_type": "code",
   "execution_count": 0,
   "metadata": {
    "colab": {},
    "colab_type": "code",
    "id": "4ohpMBt3wX2d"
   },
   "outputs": [],
   "source": [
    "%timeit [x**2 for x in range(1000)]"
   ]
  },
  {
   "cell_type": "code",
   "execution_count": 0,
   "metadata": {
    "colab": {},
    "colab_type": "code",
    "id": "sBrf17CQwX2f"
   },
   "outputs": [],
   "source": [
    "%timeit np.arange(1000)**2"
   ]
  },
  {
   "cell_type": "markdown",
   "metadata": {
    "colab_type": "text",
    "id": "S1tdc-xrwX2w"
   },
   "source": [
    "### Working with numpy arrays"
   ]
  },
  {
   "cell_type": "markdown",
   "metadata": {
    "colab_type": "text",
    "id": "Rc8NmxpfwX2w"
   },
   "source": [
    "a few important attributes of the `array` structure: \n",
    "- `ndarray.ndim` - number of axes (tensor rank)\n",
    "- `ndarray.shape` - tuple, gives dimensions of each axes.\n",
    "- `ndarray.size` - size of the array (product of elements of `ndarray.shape`)\n",
    "- `ndarray.dtype` - data type"
   ]
  },
  {
   "cell_type": "code",
   "execution_count": 2,
   "metadata": {
    "colab": {},
    "colab_type": "code",
    "id": "auQWsFfQwX2x"
   },
   "outputs": [
    {
     "name": "stdout",
     "output_type": "stream",
     "text": [
      "Dim:   2\n",
      "Shape: (2, 3)\n",
      "Size:  6\n",
      "Type:  int64\n"
     ]
    }
   ],
   "source": [
    "a = np.array([[2,7,5],[0,-1,2]])\n",
    "print(\"Dim:  \",a.ndim)\n",
    "print(\"Shape:\",a.shape)\n",
    "print(\"Size: \",a.size)\n",
    "print(\"Type: \",a.dtype)"
   ]
  },
  {
   "cell_type": "markdown",
   "metadata": {
    "colab_type": "text",
    "id": "01ZW562FwX4s"
   },
   "source": [
    "## Shape Manipulation"
   ]
  },
  {
   "cell_type": "code",
   "execution_count": 3,
   "metadata": {
    "colab": {},
    "colab_type": "code",
    "id": "1lklVNy8z3Qn"
   },
   "outputs": [
    {
     "data": {
      "text/plain": [
       "(3,)"
      ]
     },
     "execution_count": 3,
     "metadata": {},
     "output_type": "execute_result"
    }
   ],
   "source": [
    "x = np.array([1,1,2])\n",
    "x.shape"
   ]
  },
  {
   "cell_type": "code",
   "execution_count": 4,
   "metadata": {
    "colab": {},
    "colab_type": "code",
    "id": "SZ1sgELD8WM-"
   },
   "outputs": [
    {
     "data": {
      "text/plain": [
       "array([[1, 1, 2]])"
      ]
     },
     "execution_count": 4,
     "metadata": {},
     "output_type": "execute_result"
    }
   ],
   "source": [
    "x.reshape(1,3)"
   ]
  },
  {
   "cell_type": "code",
   "execution_count": 5,
   "metadata": {
    "colab": {},
    "colab_type": "code",
    "id": "jU4UgNme-SQF"
   },
   "outputs": [
    {
     "ename": "ValueError",
     "evalue": "cannot reshape array of size 3 into shape (1,4)",
     "output_type": "error",
     "traceback": [
      "\u001b[0;31m---------------------------------------------------------------------------\u001b[0m",
      "\u001b[0;31mValueError\u001b[0m                                Traceback (most recent call last)",
      "\u001b[0;32m<ipython-input-5-72e7449de1fa>\u001b[0m in \u001b[0;36m<module>\u001b[0;34m\u001b[0m\n\u001b[0;32m----> 1\u001b[0;31m \u001b[0mx\u001b[0m\u001b[0;34m.\u001b[0m\u001b[0mreshape\u001b[0m\u001b[0;34m(\u001b[0m\u001b[0;36m1\u001b[0m\u001b[0;34m,\u001b[0m\u001b[0;36m4\u001b[0m\u001b[0;34m)\u001b[0m \u001b[0;31m# this will fail because dimensions don't match\u001b[0m\u001b[0;34m\u001b[0m\u001b[0m\n\u001b[0m",
      "\u001b[0;31mValueError\u001b[0m: cannot reshape array of size 3 into shape (1,4)"
     ]
    }
   ],
   "source": [
    "x.reshape(1,4) # this will fail because dimensions don't match"
   ]
  },
  {
   "cell_type": "code",
   "execution_count": 6,
   "metadata": {
    "colab": {},
    "colab_type": "code",
    "id": "L25uATNM-Tzu"
   },
   "outputs": [
    {
     "data": {
      "text/plain": [
       "array([[1, 1, 2]])"
      ]
     },
     "execution_count": 6,
     "metadata": {},
     "output_type": "execute_result"
    }
   ],
   "source": [
    "x.reshape(1,-1)"
   ]
  },
  {
   "cell_type": "code",
   "execution_count": 7,
   "metadata": {
    "colab": {},
    "colab_type": "code",
    "id": "g6zrJmO5wX4s"
   },
   "outputs": [
    {
     "data": {
      "text/plain": [
       "array([[0., 1., 4., 3.],\n",
       "       [5., 9., 1., 2.],\n",
       "       [5., 7., 0., 3.]])"
      ]
     },
     "execution_count": 7,
     "metadata": {},
     "output_type": "execute_result"
    }
   ],
   "source": [
    "a = np.floor(10*np.random.random((3,4))) # some random matrix\n",
    "a"
   ]
  },
  {
   "cell_type": "code",
   "execution_count": 8,
   "metadata": {
    "colab": {},
    "colab_type": "code",
    "id": "Hfirml0DwX4t"
   },
   "outputs": [
    {
     "data": {
      "text/plain": [
       "(3, 4)"
      ]
     },
     "execution_count": 8,
     "metadata": {},
     "output_type": "execute_result"
    }
   ],
   "source": [
    "a.shape # a tuple that describes the shape of the object"
   ]
  },
  {
   "cell_type": "code",
   "execution_count": 9,
   "metadata": {
    "colab": {},
    "colab_type": "code",
    "id": "gpne-EfCwX4v"
   },
   "outputs": [
    {
     "data": {
      "text/plain": [
       "array([0., 1., 4., 3., 5., 9., 1., 2., 5., 7., 0., 3.])"
      ]
     },
     "execution_count": 9,
     "metadata": {},
     "output_type": "execute_result"
    }
   ],
   "source": [
    "a.ravel() # flattened list"
   ]
  },
  {
   "cell_type": "code",
   "execution_count": 10,
   "metadata": {
    "colab": {},
    "colab_type": "code",
    "id": "GS_EgtktwX4x"
   },
   "outputs": [
    {
     "data": {
      "text/plain": [
       "array([[0., 1.],\n",
       "       [4., 3.],\n",
       "       [5., 9.],\n",
       "       [1., 2.],\n",
       "       [5., 7.],\n",
       "       [0., 3.]])"
      ]
     },
     "execution_count": 10,
     "metadata": {},
     "output_type": "execute_result"
    }
   ],
   "source": [
    "a.reshape(6,2) # reshaping a, make sure the new shape has the same size"
   ]
  },
  {
   "cell_type": "code",
   "execution_count": 11,
   "metadata": {
    "colab": {},
    "colab_type": "code",
    "id": "sgqokay1wX40"
   },
   "outputs": [
    {
     "data": {
      "text/plain": [
       "array([[0., 5., 5.],\n",
       "       [1., 9., 7.],\n",
       "       [4., 1., 0.],\n",
       "       [3., 2., 3.]])"
      ]
     },
     "execution_count": 11,
     "metadata": {},
     "output_type": "execute_result"
    }
   ],
   "source": [
    "a.T # transpose"
   ]
  },
  {
   "cell_type": "code",
   "execution_count": 12,
   "metadata": {
    "colab": {},
    "colab_type": "code",
    "id": "r1rHzXY6wX41"
   },
   "outputs": [
    {
     "data": {
      "text/plain": [
       "array([[[0., 1., 4.],\n",
       "        [3., 5., 9.]],\n",
       "\n",
       "       [[1., 2., 5.],\n",
       "        [7., 0., 3.]]])"
      ]
     },
     "execution_count": 12,
     "metadata": {},
     "output_type": "execute_result"
    }
   ],
   "source": [
    "a.reshape(2,2,-1) # -1 means \"as much as you need\", such that the dimensions maches the size"
   ]
  },
  {
   "cell_type": "markdown",
   "metadata": {
    "colab_type": "text",
    "id": "fZFTLmBlwX21"
   },
   "source": [
    "## Initializing\n",
    "- `np.zeros(shape)`\n",
    "- `np.ones(shape)`\n",
    "- `np.empty(shape)`\n",
    "- `np.eye(rows, cols)`\n",
    "\n",
    "Those functions take as input the shape of an array. \n"
   ]
  },
  {
   "cell_type": "markdown",
   "metadata": {
    "colab_type": "text",
    "id": "_ooueSlHwX26"
   },
   "source": [
    "## Sequences\n",
    "- `np.arange` - like Python's `range()`, but returns a `np.array`\n",
    "- `np.linspace` - n equidistant points in interval [a,b] (like MATLAB)"
   ]
  },
  {
   "cell_type": "code",
   "execution_count": 13,
   "metadata": {
    "colab": {},
    "colab_type": "code",
    "id": "GH11eahgwX27"
   },
   "outputs": [
    {
     "data": {
      "text/plain": [
       "array([0, 1, 2, 3, 4])"
      ]
     },
     "execution_count": 13,
     "metadata": {},
     "output_type": "execute_result"
    }
   ],
   "source": [
    "np.arange(5)"
   ]
  },
  {
   "cell_type": "code",
   "execution_count": 14,
   "metadata": {
    "colab": {},
    "colab_type": "code",
    "id": "vGZM7stWwX3A"
   },
   "outputs": [
    {
     "data": {
      "text/plain": [
       "array([1.  , 1.25, 1.5 , 1.75, 2.  ])"
      ]
     },
     "execution_count": 14,
     "metadata": {},
     "output_type": "execute_result"
    }
   ],
   "source": [
    "np.linspace(1,2,5)"
   ]
  },
  {
   "cell_type": "markdown",
   "metadata": {
    "colab_type": "text",
    "id": "xgHrsAXTwX3F"
   },
   "source": [
    "## Math operators\n",
    "Math operators are applied elementwise. ( `*` is never the dot product for numpy arrays!)"
   ]
  },
  {
   "cell_type": "code",
   "execution_count": 15,
   "metadata": {
    "colab": {},
    "colab_type": "code",
    "id": "MBxr2Yb6wX3i"
   },
   "outputs": [
    {
     "data": {
      "text/plain": [
       "array([[3, 3, 3],\n",
       "       [3, 3, 3]])"
      ]
     },
     "execution_count": 15,
     "metadata": {},
     "output_type": "execute_result"
    }
   ],
   "source": [
    "a = np.ones((2,3), dtype=int)\n",
    "b = np.random.random((2,3))\n",
    "a *= 3\n",
    "a"
   ]
  },
  {
   "cell_type": "code",
   "execution_count": 16,
   "metadata": {
    "colab": {},
    "colab_type": "code",
    "id": "vpor4x5LwX3k"
   },
   "outputs": [
    {
     "data": {
      "text/plain": [
       "array([[3.89177243, 3.8585962 , 3.72698693],\n",
       "       [3.41902718, 3.50934513, 3.05722055]])"
      ]
     },
     "execution_count": 16,
     "metadata": {},
     "output_type": "execute_result"
    }
   ],
   "source": [
    "b += a\n",
    "b"
   ]
  },
  {
   "cell_type": "code",
   "execution_count": 17,
   "metadata": {
    "colab": {},
    "colab_type": "code",
    "id": "tqlz7DNuwX3F"
   },
   "outputs": [
    {
     "name": "stdout",
     "output_type": "stream",
     "text": [
      "A= [[-1  0]\n",
      " [ 0  1]]\n",
      "Elementwise mult:\n",
      "[[-1  0]\n",
      " [ 0  4]]\n",
      "\n",
      "A*B:\n",
      "[[-1 -2]\n",
      " [ 3  4]]\n"
     ]
    }
   ],
   "source": [
    "A = np.array([[-1,0],[0,1]])\n",
    "B = np.array([[1,2],[3,4]])\n",
    "print(\"A=\",A)\n",
    "print(\"Elementwise mult:\")\n",
    "print(A*B) # Not matrix multiplication\n",
    "print(\"\\nA*B:\")\n",
    "print(A.dot(B)) # this is matrix multiplication"
   ]
  },
  {
   "cell_type": "code",
   "execution_count": 20,
   "metadata": {
    "colab": {},
    "colab_type": "code",
    "id": "hNvxcTtZQqEw"
   },
   "outputs": [
    {
     "data": {
      "text/plain": [
       "array([[-2. ,  1. ],\n",
       "       [ 1.5, -0.5]])"
      ]
     },
     "execution_count": 20,
     "metadata": {},
     "output_type": "execute_result"
    }
   ],
   "source": [
    "# inverting a matrix\n",
    "C = np.linalg.inv(B)\n",
    "C"
   ]
  },
  {
   "cell_type": "code",
   "execution_count": 22,
   "metadata": {},
   "outputs": [
    {
     "data": {
      "text/plain": [
       "array([[1.0000000e+00, 4.4408921e-16],\n",
       "       [0.0000000e+00, 1.0000000e+00]])"
      ]
     },
     "execution_count": 22,
     "metadata": {},
     "output_type": "execute_result"
    }
   ],
   "source": [
    "C.dot(B) # very close to the identity matrix"
   ]
  },
  {
   "cell_type": "markdown",
   "metadata": {
    "colab_type": "text",
    "id": "bQi5VMz4PmoS"
   },
   "source": [
    "## Broadcasting\n",
    "In numpy, when performing operations with two arrays (e.g. add them up), the dimensions must match!"
   ]
  },
  {
   "cell_type": "code",
   "execution_count": 23,
   "metadata": {
    "colab": {},
    "colab_type": "code",
    "id": "stzEftSzPmoL"
   },
   "outputs": [
    {
     "ename": "ValueError",
     "evalue": "operands could not be broadcast together with shapes (5,) (4,) ",
     "output_type": "error",
     "traceback": [
      "\u001b[0;31m---------------------------------------------------------------------------\u001b[0m",
      "\u001b[0;31mValueError\u001b[0m                                Traceback (most recent call last)",
      "\u001b[0;32m<ipython-input-23-c971d41d2423>\u001b[0m in \u001b[0;36m<module>\u001b[0;34m\u001b[0m\n\u001b[1;32m      1\u001b[0m \u001b[0ma\u001b[0m \u001b[0;34m=\u001b[0m \u001b[0mnp\u001b[0m\u001b[0;34m.\u001b[0m\u001b[0marange\u001b[0m\u001b[0;34m(\u001b[0m\u001b[0;36m5\u001b[0m\u001b[0;34m)\u001b[0m\u001b[0;34m\u001b[0m\u001b[0m\n\u001b[1;32m      2\u001b[0m \u001b[0mb\u001b[0m \u001b[0;34m=\u001b[0m \u001b[0mnp\u001b[0m\u001b[0;34m.\u001b[0m\u001b[0marray\u001b[0m\u001b[0;34m(\u001b[0m\u001b[0;34m[\u001b[0m\u001b[0;36m0\u001b[0m\u001b[0;34m,\u001b[0m\u001b[0;34m-\u001b[0m\u001b[0;36m2\u001b[0m\u001b[0;34m,\u001b[0m\u001b[0;36m6\u001b[0m\u001b[0;34m,\u001b[0m\u001b[0;36m7\u001b[0m\u001b[0;34m]\u001b[0m\u001b[0;34m)\u001b[0m\u001b[0;34m\u001b[0m\u001b[0m\n\u001b[0;32m----> 3\u001b[0;31m \u001b[0ma\u001b[0m\u001b[0;34m+\u001b[0m\u001b[0mb\u001b[0m \u001b[0;31m# error\u001b[0m\u001b[0;34m\u001b[0m\u001b[0m\n\u001b[0m",
      "\u001b[0;31mValueError\u001b[0m: operands could not be broadcast together with shapes (5,) (4,) "
     ]
    }
   ],
   "source": [
    "a = np.arange(5)\n",
    "b = np.array([0,-2,6,7])\n",
    "a+b # error"
   ]
  },
  {
   "cell_type": "code",
   "execution_count": 24,
   "metadata": {
    "colab": {},
    "colab_type": "code",
    "id": "g-3Bs4RxPmoH"
   },
   "outputs": [
    {
     "data": {
      "text/plain": [
       "array([ 0, -1,  8, 10])"
      ]
     },
     "execution_count": 24,
     "metadata": {},
     "output_type": "execute_result"
    }
   ],
   "source": [
    "a = np.arange(4)\n",
    "a+b # elementwise addition\n"
   ]
  },
  {
   "cell_type": "markdown",
   "metadata": {
    "colab_type": "text",
    "id": "8Dc67QPTPmoF"
   },
   "source": [
    "There is an exception though, we are allowed to add a scalar to a vector, right?"
   ]
  },
  {
   "cell_type": "code",
   "execution_count": 25,
   "metadata": {
    "colab": {},
    "colab_type": "code",
    "id": "bgz83CE5Pmn8"
   },
   "outputs": [
    {
     "data": {
      "text/plain": [
       "array([2, 3, 4, 5])"
      ]
     },
     "execution_count": 25,
     "metadata": {},
     "output_type": "execute_result"
    }
   ],
   "source": [
    "a+2"
   ]
  },
  {
   "cell_type": "markdown",
   "metadata": {
    "colab_type": "text",
    "id": "ji-B-CWKPmns"
   },
   "source": [
    "**Be careful about the broadcasting rules!**\n",
    "\n",
    "You can perform an array operation on two arrays if:\n",
    "1. The dimensions are equal => elementwise operation\n",
    "2. One of the arrays has length 1 in some dimension, and the other has a different length. In this case, the array with dimension 1 is duplicated in the respective dimension, such that it maches the other array. This is called **broadcasting**."
   ]
  },
  {
   "cell_type": "markdown",
   "metadata": {
    "colab_type": "text",
    "id": "FOCyzZ5ywX33"
   },
   "source": [
    "## Indexing and Slicing"
   ]
  },
  {
   "cell_type": "markdown",
   "metadata": {
    "colab_type": "text",
    "id": "R0Xba-W8wX33"
   },
   "source": [
    "An `np.array` object is a multidimensional data structure, a tensor-like object. For example, a matrix is a two dimensional array, and can be viewed as a list of lists. Python indexing works for numpy objects."
   ]
  },
  {
   "cell_type": "code",
   "execution_count": 26,
   "metadata": {
    "colab": {},
    "colab_type": "code",
    "id": "Gp0gO_V_wX33"
   },
   "outputs": [
    {
     "name": "stdout",
     "output_type": "stream",
     "text": [
      "[[0.49904223 0.58239446 0.77027521 0.50560898 0.30372536]\n",
      " [0.92783589 0.59971629 0.37882194 0.74485057 0.97899223]\n",
      " [0.62366958 0.2656234  0.60413681 0.75442137 0.58988563]\n",
      " [0.13675414 0.82573764 0.88172964 0.59451278 0.64166428]\n",
      " [0.50677492 0.56056239 0.45838563 0.88978378 0.4565932 ]]\n"
     ]
    },
    {
     "data": {
      "text/plain": [
       "array([0.49904223, 0.58239446, 0.77027521, 0.50560898, 0.30372536])"
      ]
     },
     "execution_count": 26,
     "metadata": {},
     "output_type": "execute_result"
    }
   ],
   "source": [
    "data = np.random.random((5,5))\n",
    "print(data)\n",
    "data[0]\n"
   ]
  },
  {
   "cell_type": "markdown",
   "metadata": {
    "colab_type": "text",
    "id": "V0_lZrEFwX35"
   },
   "source": [
    "Obviously we can then access the columns, but this is not the recommended way in numpy."
   ]
  },
  {
   "cell_type": "code",
   "execution_count": 27,
   "metadata": {
    "colab": {},
    "colab_type": "code",
    "id": "2CyeVGmHwX36"
   },
   "outputs": [
    {
     "data": {
      "text/plain": [
       "0.7702752079290154"
      ]
     },
     "execution_count": 27,
     "metadata": {},
     "output_type": "execute_result"
    }
   ],
   "source": [
    "data[0][2]"
   ]
  },
  {
   "cell_type": "markdown",
   "metadata": {
    "colab_type": "text",
    "id": "PvzfQxHnwX38"
   },
   "source": [
    "Instead we will use:"
   ]
  },
  {
   "cell_type": "code",
   "execution_count": 28,
   "metadata": {
    "colab": {},
    "colab_type": "code",
    "id": "aHr_KKxMwX39"
   },
   "outputs": [
    {
     "data": {
      "text/plain": [
       "0.7702752079290154"
      ]
     },
     "execution_count": 28,
     "metadata": {},
     "output_type": "execute_result"
    }
   ],
   "source": [
    "data[0,2]"
   ]
  },
  {
   "cell_type": "markdown",
   "metadata": {
    "colab_type": "text",
    "id": "dJnABQ92wX39"
   },
   "source": [
    "Slicing: We can retrieve a subsection of our array. This is called slicing."
   ]
  },
  {
   "cell_type": "code",
   "execution_count": 29,
   "metadata": {
    "colab": {},
    "colab_type": "code",
    "id": "ZPiggZrpwX3-"
   },
   "outputs": [
    {
     "data": {
      "text/plain": [
       "array([0.77027521, 0.37882194, 0.60413681, 0.88172964, 0.45838563])"
      ]
     },
     "execution_count": 29,
     "metadata": {},
     "output_type": "execute_result"
    }
   ],
   "source": [
    "data[:,2]"
   ]
  },
  {
   "cell_type": "markdown",
   "metadata": {
    "colab_type": "text",
    "id": "Ql0Xo17cwX4B"
   },
   "source": [
    "Note that we get back a 1-dimensional array.\n",
    "\n",
    "If we want the same data, but as a 2-dimensional structure, as a column, we should slice on the second component as well."
   ]
  },
  {
   "cell_type": "code",
   "execution_count": 30,
   "metadata": {
    "colab": {},
    "colab_type": "code",
    "id": "RFc8GUgQwX4B"
   },
   "outputs": [
    {
     "data": {
      "text/plain": [
       "array([[0.77027521, 0.50560898, 0.30372536],\n",
       "       [0.37882194, 0.74485057, 0.97899223],\n",
       "       [0.60413681, 0.75442137, 0.58988563],\n",
       "       [0.88172964, 0.59451278, 0.64166428],\n",
       "       [0.45838563, 0.88978378, 0.4565932 ]])"
      ]
     },
     "execution_count": 30,
     "metadata": {},
     "output_type": "execute_result"
    }
   ],
   "source": [
    "data[:,2:]"
   ]
  },
  {
   "cell_type": "markdown",
   "metadata": {
    "colab_type": "text",
    "id": "ibxMSectwX4E"
   },
   "source": [
    "Note that slicing preserves the same dimension, but indexing always colapses one dimension"
   ]
  },
  {
   "cell_type": "markdown",
   "metadata": {
    "colab_type": "text",
    "id": "xwhsxVdLwX4J"
   },
   "source": [
    "slicing ranges in both dimensions"
   ]
  },
  {
   "cell_type": "code",
   "execution_count": 31,
   "metadata": {
    "colab": {},
    "colab_type": "code",
    "id": "E284amKhwX4J"
   },
   "outputs": [
    {
     "data": {
      "text/plain": [
       "array([[0.49904223, 0.58239446],\n",
       "       [0.92783589, 0.59971629]])"
      ]
     },
     "execution_count": 31,
     "metadata": {},
     "output_type": "execute_result"
    }
   ],
   "source": [
    "data[0:2,0:2]"
   ]
  },
  {
   "cell_type": "markdown",
   "metadata": {
    "colab_type": "text",
    "id": "q3_E30xRwX4P"
   },
   "source": [
    "slicing with step size"
   ]
  },
  {
   "cell_type": "code",
   "execution_count": 32,
   "metadata": {
    "colab": {},
    "colab_type": "code",
    "id": "D38YUUeRwX4Q"
   },
   "outputs": [
    {
     "name": "stdout",
     "output_type": "stream",
     "text": [
      "[[0.49904223 0.58239446 0.77027521 0.50560898 0.30372536]\n",
      " [0.92783589 0.59971629 0.37882194 0.74485057 0.97899223]\n",
      " [0.62366958 0.2656234  0.60413681 0.75442137 0.58988563]\n",
      " [0.13675414 0.82573764 0.88172964 0.59451278 0.64166428]\n",
      " [0.50677492 0.56056239 0.45838563 0.88978378 0.4565932 ]]\n"
     ]
    },
    {
     "data": {
      "text/plain": [
       "array([[0.30372536, 0.50560898, 0.77027521, 0.58239446, 0.49904223],\n",
       "       [0.58988563, 0.75442137, 0.60413681, 0.2656234 , 0.62366958],\n",
       "       [0.4565932 , 0.88978378, 0.45838563, 0.56056239, 0.50677492]])"
      ]
     },
     "execution_count": 32,
     "metadata": {},
     "output_type": "execute_result"
    }
   ],
   "source": [
    "print(data)\n",
    "data[::2,::-1] # this slicing works like: beg:end:step (experiment with different step size, -1 = reverse)"
   ]
  },
  {
   "cell_type": "markdown",
   "metadata": {
    "colab_type": "text",
    "id": "yXs7elkawX4S"
   },
   "source": [
    "We can select by passing an array"
   ]
  },
  {
   "cell_type": "code",
   "execution_count": 33,
   "metadata": {
    "colab": {},
    "colab_type": "code",
    "id": "eicNvxkPwX4S"
   },
   "outputs": [
    {
     "data": {
      "text/plain": [
       "array([[0.49904223, 0.58239446, 0.77027521, 0.50560898, 0.30372536],\n",
       "       [0.62366958, 0.2656234 , 0.60413681, 0.75442137, 0.58988563]])"
      ]
     },
     "execution_count": 33,
     "metadata": {},
     "output_type": "execute_result"
    }
   ],
   "source": [
    "data[[0,2],:] # lines 0 and 2"
   ]
  },
  {
   "cell_type": "code",
   "execution_count": 34,
   "metadata": {
    "colab": {},
    "colab_type": "code",
    "id": "Cvq3TYYNwX4V"
   },
   "outputs": [
    {
     "data": {
      "text/plain": [
       "array([[0.49904223, 0.77027521],\n",
       "       [0.92783589, 0.37882194],\n",
       "       [0.62366958, 0.60413681],\n",
       "       [0.13675414, 0.88172964],\n",
       "       [0.50677492, 0.45838563]])"
      ]
     },
     "execution_count": 34,
     "metadata": {},
     "output_type": "execute_result"
    }
   ],
   "source": [
    "data[:,[0,2]] # columns 0 and 2"
   ]
  },
  {
   "cell_type": "markdown",
   "metadata": {
    "colab_type": "text",
    "id": "RJ0ubK4nwX3n"
   },
   "source": [
    "### A few more useful methods of the np.array class"
   ]
  },
  {
   "cell_type": "code",
   "execution_count": 35,
   "metadata": {
    "colab": {},
    "colab_type": "code",
    "id": "eSX82skEwX3o"
   },
   "outputs": [
    {
     "data": {
      "text/plain": [
       "(3.1473392054347533,\n",
       " 0.07442307332252884,\n",
       " 0.989707795494877,\n",
       " 0.5245565342391255,\n",
       " 0.3179072068941565)"
      ]
     },
     "execution_count": 35,
     "metadata": {},
     "output_type": "execute_result"
    }
   ],
   "source": [
    "a = np.random.random((2,3))\n",
    "a.sum(), a.min(), a.max(), a.mean(), a.std()"
   ]
  },
  {
   "cell_type": "markdown",
   "metadata": {
    "colab_type": "text",
    "id": "dSvO3fBfwX3t"
   },
   "source": [
    "The sum of an array is the sum of all its elements. If you have, for example a 2-dimensional array and you want the sum for each column, you can use the `axis` parameter (axis=1), for rows, axis=0."
   ]
  },
  {
   "cell_type": "markdown",
   "metadata": {
    "colab_type": "text",
    "id": "27-DQVVwwX4b"
   },
   "source": [
    "### Fancy indexing\n",
    "- boolean masks\n",
    "- arrays"
   ]
  },
  {
   "cell_type": "code",
   "execution_count": 36,
   "metadata": {
    "colab": {},
    "colab_type": "code",
    "id": "_rGUZLBNwX4b"
   },
   "outputs": [
    {
     "name": "stdout",
     "output_type": "stream",
     "text": [
      "[[ 0  1  2  3  4]\n",
      " [ 5  6  7  8  9]\n",
      " [10 11 12 13 14]\n",
      " [15 16 17 18 19]]\n",
      "\n",
      "Mask:\n",
      "[[False False False False False]\n",
      " [False  True  True  True  True]\n",
      " [ True  True  True  True  True]\n",
      " [ True  True  True  True  True]]\n",
      "\n",
      "All elements greater than 5\n",
      "[ 6  7  8  9 10 11 12 13 14 15 16 17 18 19]\n"
     ]
    }
   ],
   "source": [
    "a = np.arange(20).reshape((4,5))\n",
    "print(a)\n",
    "print()\n",
    "print(\"Mask:\")\n",
    "print(a>5)\n",
    "print()\n",
    "print(\"All elements greater than 5\")\n",
    "print(a[a>5]) # selection using boolean masks, returns flattened array"
   ]
  },
  {
   "cell_type": "markdown",
   "metadata": {
    "colab_type": "text",
    "id": "KtA7JSTLwX44"
   },
   "source": [
    "## Stacking and spliting arrays"
   ]
  },
  {
   "cell_type": "code",
   "execution_count": 37,
   "metadata": {
    "colab": {},
    "colab_type": "code",
    "id": "lqucM2aQwX44"
   },
   "outputs": [
    {
     "name": "stdout",
     "output_type": "stream",
     "text": [
      "Col stack:\n",
      "[[1 0]\n",
      " [2 5]\n",
      " [3 6]]\n",
      "Row stack:\n",
      "[[1 2 3]\n",
      " [0 5 6]]\n"
     ]
    }
   ],
   "source": [
    "# for 2D arrays: column_stack and row_stack\n",
    "a = np.array([1,2,3])\n",
    "b = np.array([0,5,6])\n",
    "print(\"Col stack:\")\n",
    "print(np.column_stack((a,b)))\n",
    "print(\"Row stack:\")\n",
    "print(np.row_stack((a,b)))"
   ]
  },
  {
   "cell_type": "markdown",
   "metadata": {
    "colab_type": "text",
    "id": "0mhrEqS4wX49"
   },
   "source": [
    "See also `hstack`, `vstack` and `concatenate` for multidimensional arrays"
   ]
  },
  {
   "cell_type": "markdown",
   "metadata": {
    "colab_type": "text",
    "id": "Fb9P_gnFwX5G"
   },
   "source": [
    "## Linear Algebra\n",
    "numpy has implementations of some of the most common algebraic operations.\n",
    "The most common one, the dot product is implemented both as a method of the array object and as a numpy function."
   ]
  },
  {
   "cell_type": "code",
   "execution_count": 39,
   "metadata": {
    "colab": {},
    "colab_type": "code",
    "id": "gXkM7ZZ2wX5G"
   },
   "outputs": [
    {
     "data": {
      "text/plain": [
       "-5"
      ]
     },
     "execution_count": 39,
     "metadata": {},
     "output_type": "execute_result"
    }
   ],
   "source": [
    "# compute the dot product of a and b\n",
    "a = np.array([1,3,2])\n",
    "b = np.array([0,-1,-1])\n",
    "\n",
    "a.dot(b) # or:\n",
    "# np.dot(a,b)"
   ]
  },
  {
   "cell_type": "markdown",
   "metadata": {
    "colab_type": "text",
    "id": "jRU8_wZFwX5H"
   },
   "source": [
    "Matrix multiplication can be performed either using the dot product or `np.matmul`. Using functions from numpy you can \n",
    "- find eigenvalues and eigenvectors, \n",
    "- compute some decompositions (QR, SVD), \n",
    "- compute determinant of a matrix, \n",
    "- norm of a vector,\n",
    "- solve a linear system\n",
    "- invert a matrix\n",
    "\n",
    "See [the documentation](https://docs.scipy.org/doc/numpy-1.13.0/reference/routines.linalg.html)"
   ]
  },
  {
   "cell_type": "code",
   "execution_count": 40,
   "metadata": {
    "colab": {},
    "colab_type": "code",
    "id": "uT6f_IUkwX3S"
   },
   "outputs": [
    {
     "data": {
      "text/plain": [
       "array([0.        , 0.06342392, 0.12659245, 0.18925124, 0.25114799,\n",
       "       0.31203345, 0.37166246, 0.42979491, 0.48619674, 0.54064082,\n",
       "       0.59290793, 0.64278761, 0.69007901, 0.73459171, 0.77614646,\n",
       "       0.81457595, 0.84972543, 0.88145336, 0.909632  , 0.93414786])"
      ]
     },
     "execution_count": 40,
     "metadata": {},
     "output_type": "execute_result"
    }
   ],
   "source": [
    "x = np.linspace(0,2*np.pi,100)\n",
    "y = np.sin(x) # np.sin applied elementwise for array x\n",
    "y[:20]"
   ]
  },
  {
   "cell_type": "markdown",
   "metadata": {
    "colab_type": "text",
    "id": "yxH-ebdLAxA5"
   },
   "source": [
    "# Matplotlib"
   ]
  },
  {
   "cell_type": "code",
   "execution_count": 41,
   "metadata": {
    "colab": {},
    "colab_type": "code",
    "id": "OqLVip8OQKU_"
   },
   "outputs": [],
   "source": [
    "import matplotlib.pyplot as plt\n",
    "%matplotlib inline"
   ]
  },
  {
   "cell_type": "markdown",
   "metadata": {
    "colab_type": "text",
    "id": "cXewvWC1Tpnq"
   },
   "source": [
    "## Interfaces\n",
    "`matplotlib` has two interfaces:\n",
    "- procedural (it behaves like a state machine), similar to `MATLAB`\n",
    "- object oriented, more explicit, more tedious to write, but gives access to many more controls.\n",
    "\n",
    "### Which interface to use?\n",
    "Most of the time you will want to use the object oriented interface. This gives you direct acces to each element of the plot. You can use the procedural interface when experimenting, to view the data very fast, as it involves less typing.\n",
    "\n",
    "Note: The plot above is created using the procedural interface. From now on we will use the object oriented interface!\n",
    "\n",
    "**Caution!** When using elements from other example plots, make sure you know what interface is being used."
   ]
  },
  {
   "cell_type": "markdown",
   "metadata": {
    "colab_type": "text",
    "id": "6tXnUJYlTpnr"
   },
   "source": [
    "## The elements of a plot\n",
    "\n",
    "### The figure and the axes\n",
    "The figure is the entire image, the individual plots are called \"axes\". Here's a description from matplotlib's documentation."
   ]
  },
  {
   "cell_type": "markdown",
   "metadata": {
    "colab_type": "text",
    "id": "hJ5bGCm6Tpnr"
   },
   "source": [
    "![](https://matplotlib.org/_images/anatomy1.png)"
   ]
  },
  {
   "cell_type": "markdown",
   "metadata": {
    "colab_type": "text",
    "id": "sK91obhsTpn3"
   },
   "source": [
    "## The object oriented interface"
   ]
  },
  {
   "cell_type": "code",
   "execution_count": 42,
   "metadata": {
    "colab": {},
    "colab_type": "code",
    "id": "l5A-LjajTpn4"
   },
   "outputs": [
    {
     "data": {
      "image/png": "[encoded data removed]",
      "text/plain": [
       "<Figure size 432x288 with 1 Axes>"
      ]
     },
     "metadata": {
      "needs_background": "light"
     },
     "output_type": "display_data"
    }
   ],
   "source": [
    "fig, ax = plt.subplots()\n",
    "# or\n",
    "# fig = plt.figure()\n",
    "# ax = fig.add_subplot(1,1,1)\n",
    "\n",
    "plt.show()"
   ]
  },
  {
   "cell_type": "markdown",
   "metadata": {
    "colab_type": "text",
    "id": "lIbXbM0LTpoA"
   },
   "source": [
    "We now have acces to the `ax` object, which reprezents a plot. A figure can have more than one axes:"
   ]
  },
  {
   "cell_type": "code",
   "execution_count": 43,
   "metadata": {
    "colab": {},
    "colab_type": "code",
    "id": "e1MZfyOITpoB"
   },
   "outputs": [
    {
     "data": {
      "image/png": "[encoded data removed]",
      "text/plain": [
       "<Figure size 432x288 with 2 Axes>"
      ]
     },
     "metadata": {
      "needs_background": "light"
     },
     "output_type": "display_data"
    }
   ],
   "source": [
    "fig1, (ax1,ax2) = plt.subplots(1,2)\n",
    "plt.show()"
   ]
  },
  {
   "cell_type": "markdown",
   "metadata": {
    "colab_type": "text",
    "id": "hgDz66ykTpoH"
   },
   "source": [
    "We can change the figure size:"
   ]
  },
  {
   "cell_type": "code",
   "execution_count": 45,
   "metadata": {
    "colab": {},
    "colab_type": "code",
    "id": "e9QxxCyyTpoH"
   },
   "outputs": [
    {
     "data": {
      "image/png": "[encoded data removed]",
      "text/plain": [
       "<Figure size 640x320 with 2 Axes>"
      ]
     },
     "metadata": {
      "needs_background": "light"
     },
     "output_type": "display_data"
    }
   ],
   "source": [
    "fig1 = plt.figure(figsize=(8,4), dpi=80) # width and height in inches, you can also specify the dpi\n",
    "(ax1,ax2) = fig1.subplots(1,2)\n",
    "plt.show()"
   ]
  },
  {
   "cell_type": "markdown",
   "metadata": {
    "colab_type": "text",
    "id": "wKaHAF2CTpoL"
   },
   "source": [
    "We can set the limits, the title, and x and y labels"
   ]
  },
  {
   "cell_type": "code",
   "execution_count": 46,
   "metadata": {
    "colab": {},
    "colab_type": "code",
    "id": "DvCzvvrRTpoM"
   },
   "outputs": [
    {
     "data": {
      "image/png": "[encoded data removed]",
      "text/plain": [
       "<Figure size 432x288 with 1 Axes>"
      ]
     },
     "metadata": {
      "needs_background": "light"
     },
     "output_type": "display_data"
    }
   ],
   "source": [
    "fig, ax = plt.subplots()\n",
    "ax.set(xlim=[-0.5, 3], ylim=[-1, 6], title='Example',\n",
    "       ylabel='Y Axis', xlabel='X Axis')\n",
    "fig.show()"
   ]
  },
  {
   "cell_type": "markdown",
   "metadata": {
    "colab_type": "text",
    "id": "cUlQ4PCCTpoQ"
   },
   "source": [
    "**Enough empty plots!** Let's add some data!"
   ]
  },
  {
   "cell_type": "code",
   "execution_count": 47,
   "metadata": {
    "colab": {},
    "colab_type": "code",
    "id": "BR-dZw80TpoR"
   },
   "outputs": [
    {
     "data": {
      "text/plain": [
       "[<matplotlib.lines.Line2D at 0x7f33f0c8b630>]"
      ]
     },
     "execution_count": 47,
     "metadata": {},
     "output_type": "execute_result"
    },
    {
     "data": {
      "image/png": "[encoded data removed]",
      "text/plain": [
       "<Figure size 432x288 with 1 Axes>"
      ]
     },
     "metadata": {
      "needs_background": "light"
     },
     "output_type": "display_data"
    }
   ],
   "source": [
    "fig, ax = plt.subplots()\n",
    "x = np.linspace(0,2.5,10) # equidistant points in interval 0-2.5\n",
    "y = np.random.random(10)+.5*np.arange(10)\n",
    "ax.plot(x,y)"
   ]
  },
  {
   "cell_type": "markdown",
   "metadata": {
    "colab_type": "text",
    "id": "e78jZeBLTpoY"
   },
   "source": [
    "`plot(x,y)` creates a line-plot. We can set the color, linewidth and markers, or use just markers and remove the line: "
   ]
  },
  {
   "cell_type": "code",
   "execution_count": 49,
   "metadata": {
    "colab": {},
    "colab_type": "code",
    "id": "E5V_xuGmTpoZ"
   },
   "outputs": [
    {
     "data": {
      "text/plain": [
       "[<matplotlib.lines.Line2D at 0x7f33f0c347b8>]"
      ]
     },
     "execution_count": 49,
     "metadata": {},
     "output_type": "execute_result"
    },
    {
     "data": {
      "image/png": "[encoded data removed]",
      "text/plain": [
       "<Figure size 640x320 with 2 Axes>"
      ]
     },
     "metadata": {
      "needs_background": "light"
     },
     "output_type": "display_data"
    }
   ],
   "source": [
    "x = np.linspace(0,2.5,10) # equidistant points in interval 0-2.5\n",
    "y = np.random.random(10)+.5*np.arange(10)\n",
    "\n",
    "fig1 = plt.figure(figsize=(8,4), dpi=80) # width and height in inches, you can also specify the dpi\n",
    "(ax1,ax2) = fig1.subplots(1,2)\n",
    "ax1.plot(x,y, color='red', linewidth=3)\n",
    "z = 3+np.random.random(10)\n",
    "ax1.plot(x,z, color='green', marker='^', linewidth=0)\n",
    "# we let matplotlib adjust the limits of the plot\n"
   ]
  },
  {
   "cell_type": "markdown",
   "metadata": {
    "colab_type": "text",
    "id": "cSfXik7tTpoe"
   },
   "source": [
    "Note that we can make multiple plots on the same axes"
   ]
  },
  {
   "cell_type": "markdown",
   "metadata": {
    "colab_type": "text",
    "id": "taE0vGIWTpoe"
   },
   "source": [
    "You can set the title and axis, and other elements of the plot by using setters:"
   ]
  },
  {
   "cell_type": "code",
   "execution_count": 50,
   "metadata": {
    "colab": {},
    "colab_type": "code",
    "id": "pyxjIdA6Tpof"
   },
   "outputs": [
    {
     "data": {
      "image/png": "[encoded data removed]",
      "text/plain": [
       "<Figure size 640x320 with 2 Axes>"
      ]
     },
     "metadata": {
      "needs_background": "light"
     },
     "output_type": "display_data"
    }
   ],
   "source": [
    "x = np.linspace(0,2.5,10) # equidistant points in interval 0-2.5\n",
    "y = np.random.random(10)+.5*np.arange(10)\n",
    "\n",
    "fig1 = plt.figure(figsize=(8,4), dpi=80) # width and height in inches, you can also specify the dpi\n",
    "(ax1,ax2) = fig1.subplots(1,2)\n",
    "ax1.plot(x,y, color='red', linewidth=3)\n",
    "z = 3+np.random.random(10)\n",
    "ax1.plot(x,z, color='green', marker='^', linewidth=0)\n",
    "\n",
    "ax1.set_xlim([-0.5, 3])\n",
    "ax1.set_ylim([-1, 6])\n",
    "ax1.set_title('The Title')\n",
    "ax1.set_ylabel('Y Axis')\n",
    "ax1.set_xlabel('X Axis')\n",
    "fig1.show()"
   ]
  },
  {
   "cell_type": "markdown",
   "metadata": {
    "colab_type": "text",
    "id": "aybhY813Tpoi"
   },
   "source": [
    "the `set()` method attempts to call the other setters."
   ]
  },
  {
   "cell_type": "code",
   "execution_count": 51,
   "metadata": {
    "colab": {},
    "colab_type": "code",
    "id": "5sNMh5iKTpoi"
   },
   "outputs": [
    {
     "data": {
      "text/plain": [
       "<matplotlib.collections.PathCollection at 0x7f33f0b47b38>"
      ]
     },
     "execution_count": 51,
     "metadata": {},
     "output_type": "execute_result"
    },
    {
     "data": {
      "image/png": "[encoded data removed]",
      "text/plain": [
       "<Figure size 640x320 with 2 Axes>"
      ]
     },
     "metadata": {
      "needs_background": "light"
     },
     "output_type": "display_data"
    }
   ],
   "source": [
    "\n",
    "x = np.linspace(0,2.5,10) # equidistant points in interval 0-2.5\n",
    "y = np.random.random(10)+.5*np.arange(10)\n",
    "\n",
    "fig1 = plt.figure(figsize=(8,4), dpi=80) # width and height in inches, you can also specify the dpi\n",
    "(ax1,ax2) = fig1.subplots(1,2)\n",
    "ax1.plot(x,y, color='red', linewidth=3)\n",
    "z = 3+np.random.random(10)\n",
    "ax1.plot(x,z, color='green', marker='^', linewidth=0)\n",
    "\n",
    "ax1.set_xlim([-0.5, 3])\n",
    "ax1.set_ylim([-1, 6])\n",
    "ax1.set_title('The Title')\n",
    "ax1.set_ylabel('Y Axis')\n",
    "ax1.set_xlabel('X Axis')\n",
    "\n",
    "x = np.random.randn(40)\n",
    "y = np.random.randn(40)\n",
    "z = np.random.randn(40)\n",
    "ax2.scatter(x,y)\n"
   ]
  },
  {
   "cell_type": "code",
   "execution_count": 52,
   "metadata": {
    "colab": {},
    "colab_type": "code",
    "id": "FLmo3TpDTpol"
   },
   "outputs": [],
   "source": [
    "ax2.set(title=\"A Scatterplot\", xlabel='X', ylabel='Y')\n",
    "fig1.show()"
   ]
  },
  {
   "cell_type": "code",
   "execution_count": 53,
   "metadata": {
    "colab": {},
    "colab_type": "code",
    "id": "gm7yYN5jTpn1"
   },
   "outputs": [],
   "source": [
    "fig.savefig(\"mpl.test.jpg\") # this saves our figure"
   ]
  },
  {
   "cell_type": "markdown",
   "metadata": {
    "colab_type": "text",
    "id": "UgyhAfOGTpo2"
   },
   "source": [
    "## Bar Plots"
   ]
  },
  {
   "cell_type": "code",
   "execution_count": 54,
   "metadata": {
    "colab": {},
    "colab_type": "code",
    "id": "GGIUucWRTpo4"
   },
   "outputs": [
    {
     "data": {
      "text/plain": [
       "<matplotlib.lines.Line2D at 0x7f33f0a54c18>"
      ]
     },
     "execution_count": 54,
     "metadata": {},
     "output_type": "execute_result"
    },
    {
     "data": {
      "image/png": "[encoded data removed]",
      "text/plain": [
       "<Figure size 432x288 with 1 Axes>"
      ]
     },
     "metadata": {
      "needs_background": "light"
     },
     "output_type": "display_data"
    }
   ],
   "source": [
    "np.random.seed(1)\n",
    "x = np.arange(5)\n",
    "y = np.random.randn(5)\n",
    "\n",
    "fig, axes = plt.subplots()\n",
    "\n",
    "axes.bar(x, y, color='lightblue', align='center')\n",
    "axes.axhline(0, color='gray', linewidth=2)\n"
   ]
  },
  {
   "cell_type": "markdown",
   "metadata": {
    "colab_type": "text",
    "id": "DtHVUsGMP9Dg"
   },
   "source": [
    "# Exercises"
   ]
  },
  {
   "cell_type": "markdown",
   "metadata": {
    "colab_type": "text",
    "id": "DcALfnbSW98l"
   },
   "source": [
    "## 1. System of linear equations\n",
    "\n",
    "Using numpy, solve the following linear equation:\n",
    "\n"
   ]
  },
  {
   "cell_type": "markdown",
   "metadata": {
    "colab_type": "text",
    "id": "LlnFf_e7XsRS"
   },
   "source": [
    "$\\begin{bmatrix}\n",
    "   1 & 2 & 3.3 & 2 \\\\\n",
    "   3 & 3.6 & 7 & 0 \\\\\n",
    "   1 & 3 & -1 & 12 \\\\\n",
    "   2 & 11 & 4 & 16\n",
    "\\end{bmatrix}\n",
    "\\begin{bmatrix}\n",
    "   x_1 \\\\\n",
    "   x_2 \\\\\n",
    "   x_3 \\\\\n",
    "   x_4\n",
    "\\end{bmatrix}=\\begin{bmatrix}\n",
    "   10 \\\\\n",
    "   15 \\\\\n",
    "   3 \\\\\n",
    "   -1\n",
    "\\end{bmatrix}$"
   ]
  },
  {
   "cell_type": "code",
   "execution_count": 60,
   "metadata": {
    "colab": {},
    "colab_type": "code",
    "id": "93zy_EQdXuvz"
   },
   "outputs": [
    {
     "name": "stdout",
     "output_type": "stream",
     "text": [
      "[-1.28937298 -4.34942596  4.9322932   1.85582867]\n",
      "[10. 15.  3. -1.]\n"
     ]
    }
   ],
   "source": [
    "A = np.array([\n",
    "    [1, 2, 3.3, 2],\n",
    "    [3, 3.6, 7, 0],\n",
    "    [1, 3, -1, 12],\n",
    "    [2, 11, 4, 16]])\n",
    "b = np.array([10, 15, 3, -1])\n",
    "x = np.linalg.solve(A,b)\n",
    "print(y)\n",
    "print(A.dot(x))\n"
   ]
  },
  {
   "cell_type": "markdown",
   "metadata": {
    "colab_type": "text",
    "id": "BLfScKtFZcnP"
   },
   "source": [
    "## 2. Another system of linear equations\n",
    " Using numpy, ***try*** to solve the following linear equation (hint: *np.linalg.pinv()*): \n"
   ]
  },
  {
   "cell_type": "markdown",
   "metadata": {
    "colab_type": "text",
    "id": "ZnjOXy3OZw5p"
   },
   "source": [
    "$\\begin{bmatrix}\n",
    "   1 & -1 & -1 & 1 \\\\\n",
    "   0 & 1 & 1 & 0 \\\\\n",
    "   1 & 0 & -1 & 0 \\\\\n",
    "   -1 & 0 & 1 & 0\n",
    "\\end{bmatrix}\n",
    "\\begin{bmatrix}\n",
    "   x_1 \\\\\n",
    "   x_2 \\\\\n",
    "   x_3 \\\\\n",
    "   x_4\n",
    "\\end{bmatrix}=\\begin{bmatrix}\n",
    "   1 \\\\\n",
    "   2 \\\\\n",
    "   3 \\\\\n",
    "   4\n",
    "\\end{bmatrix}$"
   ]
  },
  {
   "cell_type": "code",
   "execution_count": 84,
   "metadata": {
    "colab": {},
    "colab_type": "code",
    "id": "RKV0jTtlZzlZ"
   },
   "outputs": [
    {
     "name": "stdout",
     "output_type": "stream",
     "text": [
      "x:  [1.  0.5 1.5 2. ]\n",
      "[ 1.   2.  -0.5  0.5]\n",
      "\n",
      "[1.  0.5 1.5 2. ]\n",
      "[ 1.   2.  -0.5  0.5]\n"
     ]
    }
   ],
   "source": [
    "A = np.array([\n",
    "    [1, -1, -1, 1],\n",
    "    [0,  1,  1, 0],\n",
    "    [1,  0, -1, 0],\n",
    "    [-1, 0,  1, 0]\n",
    "])\n",
    "b = np.array([1, 2, 3, 4])\n",
    "Ainv = np.linalg.pinv(A)\n",
    "x = Ainv.dot(b)\n",
    "print(\"x: \",x)\n",
    "print(A.dot(x))\n"
   ]
  },
  {
   "cell_type": "markdown",
   "metadata": {
    "colab_type": "text",
    "id": "XvjRHIdrqqcv"
   },
   "source": [
    "## 3. Find the closest value to a given scalar in an array. Don't use loops!\n",
    "*hint: np.argmin()*"
   ]
  },
  {
   "cell_type": "code",
   "execution_count": 63,
   "metadata": {
    "colab": {},
    "colab_type": "code",
    "id": "HfPsZrWeq8s4"
   },
   "outputs": [
    {
     "name": "stdout",
     "output_type": "stream",
     "text": [
      "The closest value to 12 in the array is 6.0 at index 4\n"
     ]
    }
   ],
   "source": [
    "a = np.array([1,5, 20, -14, 6, 0, -2, 4.3])\n",
    "b = 12\n",
    "index = np.argmin(np.abs(a-b))\n",
    "x = a[index]\n",
    "print(\"The closest value to {} in the array is {} at index {}\".format(b, x, index))"
   ]
  },
  {
   "cell_type": "markdown",
   "metadata": {
    "colab_type": "text",
    "id": "DwxnUyZVZ0rc"
   },
   "source": [
    "## 4. Plot some functions\n",
    "Using numpy and matplotlib, create a figure having two subplots with the following functions (you can choose the colors and styling, and interval of interest):\n",
    "\n",
    "$f_1(x)=x + \\frac{sin(x)}{x}$\n",
    "\n",
    "$f_2(x) = e^{log(x)+1} + \\frac{cos(x)}{3}$\n"
   ]
  },
  {
   "cell_type": "code",
   "execution_count": 73,
   "metadata": {
    "colab": {},
    "colab_type": "code",
    "id": "xjHoRuKEbY3j"
   },
   "outputs": [
    {
     "name": "stderr",
     "output_type": "stream",
     "text": [
      "/home/aniu/anaconda3/lib/python3.6/site-packages/ipykernel_launcher.py:7: RuntimeWarning: invalid value encountered in log\n",
      "  import sys\n"
     ]
    },
    {
     "data": {
      "text/plain": [
       "Text(0, 0.5, 'f2')"
      ]
     },
     "execution_count": 73,
     "metadata": {},
     "output_type": "execute_result"
    },
    {
     "data": {
      "image/png": "[encoded data removed]",
      "text/plain": [
       "<Figure size 576x576 with 2 Axes>"
      ]
     },
     "metadata": {
      "needs_background": "light"
     },
     "output_type": "display_data"
    }
   ],
   "source": [
    "# creating function, lambda creates anonimous functions, which can be atributed to a name.\n",
    "# has the same effect as\n",
    "# def f1(x):\n",
    "#     return x + np.sin(x)/x\n",
    "# but more concise\n",
    "\n",
    "f1 = lambda x: x + np.sin(x)/x\n",
    "f2 = lambda x: np.exp(np.log(x) + 1) + np.cos(x)/3\n",
    "\n",
    "x = np.linspace(-5,5,500)\n",
    "\n",
    "fig = plt.figure(figsize=(8,8))\n",
    "(ax1,ax2) = fig.subplots(2,1)\n",
    "ax1.plot(x, f1(x))\n",
    "ax1.set_ylabel('f1')\n",
    "ax2.plot(x, f2(x))\n",
    "ax2.set_ylabel('f2')"
   ]
  },
  {
   "cell_type": "markdown",
   "metadata": {
    "colab_type": "text",
    "id": "vxhrzxP7q9fJ"
   },
   "source": [
    "## Homework\n",
    "- [100 Numpy exercises](http://www.labri.fr/perso/nrougier/teaching/numpy.100/) \n",
    "\n",
    "** Have fun! **\n"
   ]
  },
  {
   "cell_type": "code",
   "execution_count": 0,
   "metadata": {
    "colab": {},
    "colab_type": "code",
    "id": "X6JvQCk0rOvo"
   },
   "outputs": [],
   "source": []
  }
 ],
 "metadata": {
  "colab": {
   "collapsed_sections": [],
   "name": "Lab 1 numpy.ipynb",
   "provenance": [],
   "toc_visible": true,
   "version": "0.3.2"
  },
  "kernelspec": {
   "display_name": "Python 3",
   "language": "python",
   "name": "python3"
  },
  "language_info": {
   "codemirror_mode": {
    "name": "ipython",
    "version": 3
   },
   "file_extension": ".py",
   "mimetype": "text/x-python",
   "name": "python",
   "nbconvert_exporter": "python",
   "pygments_lexer": "ipython3",
   "version": "3.6.5"
  }
 },
 "nbformat": 4,
 "nbformat_minor": 1
}
